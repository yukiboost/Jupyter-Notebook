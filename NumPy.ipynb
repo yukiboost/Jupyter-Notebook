{
 "cells": [
  {
   "cell_type": "code",
   "execution_count": 1,
   "metadata": {},
   "outputs": [],
   "source": [
    "#导入NumPy包\n",
    "# importing numpy package\n",
    "import numpy as np"
   ]
  },
  {
   "cell_type": "markdown",
   "metadata": {},
   "source": [
    "# 5.2 为何Numyp 数组优于列表"
   ]
  },
  {
   "cell_type": "code",
   "execution_count": null,
   "metadata": {},
   "outputs": [],
   "source": [
    "# 5.2 为何Numyp 数组优于列表\n",
    "distance = [55,60,45]\n",
    "speed = [6,10,7]\n",
    "time = distance/speed\n",
    "print(\"time: \",time)"
   ]
  },
  {
   "cell_type": "code",
   "execution_count": 3,
   "metadata": {},
   "outputs": [
    {
     "name": "stdout",
     "output_type": "stream",
     "text": [
      "[18.33333333 10.          4.83333333]\n"
     ]
    }
   ],
   "source": [
    "#列表不能够直接进行数学计算！！ \n",
    "#NumPy数组 ===>\n",
    "import numpy as np\n",
    "distance = [55,40,29]\n",
    "speed = [3,4,6]\n",
    "dist = np.array(distance)\n",
    "spd = np.array(speed)\n",
    "time = dist/spd\n",
    "print(time)\n"
   ]
  },
  {
   "cell_type": "code",
   "execution_count": 4,
   "metadata": {},
   "outputs": [],
   "source": [
    "# dist和spd变量是NumPy数组类型，所以结果将自动设定为NumPy数组。"
   ]
  },
  {
   "cell_type": "markdown",
   "metadata": {},
   "source": [
    "# 5.3 NumPy数组属性"
   ]
  },
  {
   "cell_type": "code",
   "execution_count": 7,
   "metadata": {},
   "outputs": [
    {
     "name": "stdout",
     "output_type": "stream",
     "text": [
      "data type of array: float64\n",
      "No. of dimensions: 1\n",
      "size of each dimension: (3,)\n",
      "total size of array: 3\n"
     ]
    }
   ],
   "source": [
    "# 5.3 NumPy数组属性\n",
    "# NumPy数组有自己的属性，如维度，尺寸和形状，可以通过ndim、shape和size属性\n",
    "# 来获取对应的值。\n",
    "# data type\n",
    "print(\"data type of array:\",time.dtype)\n",
    "# No. of dimensions\n",
    "print(\"No. of dimensions:\", time.ndim)\n",
    "# size of each dimension\n",
    "print(\"size of each dimension:\", time.shape)\n",
    "# total size of array\n",
    "print(\"total size of array:\", time.size)"
   ]
  },
  {
   "cell_type": "markdown",
   "metadata": {},
   "source": [
    "# 5.4 创建NumPy数组"
   ]
  },
  {
   "cell_type": "code",
   "execution_count": 12,
   "metadata": {},
   "outputs": [
    {
     "name": "stdout",
     "output_type": "stream",
     "text": [
      "x1 ndim:  1\n",
      "x1 shape:  (6,)\n",
      "x1 size:  6\n",
      "x2 ndim:  2\n",
      "x2 shape:  (3, 4)\n",
      "x2 size:  12\n",
      "x3 ndim:  3\n",
      "x3 shape:  (3, 4, 5)\n",
      "x3 size:  60\n"
     ]
    }
   ],
   "source": [
    "# 5.4 创建NumPy数组\n",
    "# creating arrays with random values\n",
    "np.random.seed(0)  # seed for reproducibility 将随机种子设为0\n",
    "\n",
    "x1 = np.random.randint(10, size=6) # One-dimensional array\n",
    "x2 = np.random.randint(10, size=(3,4)) # Two-dimensional array\n",
    "x3 = np.random.randint(10, size=(3,4,5)) # Three-dimensional array\n",
    "\n",
    "print(\"x1 ndim: \", x1.ndim)\n",
    "print(\"x1 shape: \", x1.shape)\n",
    "print(\"x1 size: \", x1.size)\n",
    "\n",
    "print(\"x2 ndim: \", x2.ndim)\n",
    "print(\"x2 shape: \", x2.shape)\n",
    "print(\"x2 size: \", x2.size)\n",
    "\n",
    "print(\"x3 ndim: \", x3.ndim)\n",
    "print(\"x3 shape: \", x3.shape)\n",
    "print(\"x3 size: \", x3.size)"
   ]
  },
  {
   "cell_type": "markdown",
   "metadata": {},
   "source": [
    "# numpy.random.randint\n",
    "random.randint(low,high=None,size=None,dtpye=int)\n",
    "\n",
    "Return random integers from low(inclusive)to high(exclusive)\n",
    "\n",
    "[low,high)  if high is None then [0,low)\n"
   ]
  },
  {
   "cell_type": "code",
   "execution_count": 13,
   "metadata": {},
   "outputs": [
    {
     "data": {
      "text/plain": [
       "array([1, 1, 0, 1, 0, 0, 0, 0, 0, 1])"
      ]
     },
     "execution_count": 13,
     "metadata": {},
     "output_type": "execute_result"
    }
   ],
   "source": [
    "np.random.randint(2,size=10)"
   ]
  },
  {
   "cell_type": "code",
   "execution_count": 15,
   "metadata": {},
   "outputs": [
    {
     "data": {
      "text/plain": [
       "array([4, 3, 2, 5, 5])"
      ]
     },
     "execution_count": 15,
     "metadata": {},
     "output_type": "execute_result"
    }
   ],
   "source": [
    "np.random.randint(6,size=5)"
   ]
  },
  {
   "cell_type": "code",
   "execution_count": 17,
   "metadata": {},
   "outputs": [
    {
     "data": {
      "text/plain": [
       "array([[2, 2, 0, 1],\n",
       "       [0, 2, 2, 3],\n",
       "       [2, 3, 2, 1]])"
      ]
     },
     "execution_count": 17,
     "metadata": {},
     "output_type": "execute_result"
    }
   ],
   "source": [
    "np.random.randint(5,size=(3,4))"
   ]
  },
  {
   "cell_type": "code",
   "execution_count": 18,
   "metadata": {},
   "outputs": [
    {
     "data": {
      "text/plain": [
       "array([[2, 3, 3],\n",
       "       [3, 2, 3],\n",
       "       [4, 1, 2],\n",
       "       [3, 1, 2]])"
      ]
     },
     "execution_count": 18,
     "metadata": {},
     "output_type": "execute_result"
    }
   ],
   "source": [
    "np.random.randint(5,size=(4,3))"
   ]
  },
  {
   "cell_type": "markdown",
   "metadata": {},
   "source": [
    "使用NumPy的arange()函数创建另一个数组，该函数返回的值基本上在给定的区间内均匀分布。"
   ]
  },
  {
   "cell_type": "code",
   "execution_count": 20,
   "metadata": {},
   "outputs": [
    {
     "name": "stdout",
     "output_type": "stream",
     "text": [
      "sequential array with steps of 5:\n",
      " [ 0  5 10 15]\n"
     ]
    }
   ],
   "source": [
    "# 等差数组\n",
    "f = np.arange(0,20,5)\n",
    "print(\"sequential array with steps of 5:\\n\",f)"
   ]
  },
  {
   "cell_type": "markdown",
   "metadata": {},
   "source": [
    "# 5.5 访问NumPy数组中的元素"
   ]
  },
  {
   "cell_type": "code",
   "execution_count": 22,
   "metadata": {},
   "outputs": [
    {
     "name": "stdout",
     "output_type": "stream",
     "text": [
      "1-d array: [5 0 3 3 7 9]\n",
      "second element of first array: 0\n",
      "last element of first array: 9\n",
      "first element of first array: 5\n"
     ]
    }
   ],
   "source": [
    "# 1-d array\n",
    "print(\"1-d array:\", x1)\n",
    "print(\"second element of first array:\", x1[1])\n",
    "print(\"last element of first array:\", x1[-1])\n",
    "print(\"first element of first array:\", x1[0])"
   ]
  },
  {
   "cell_type": "code",
   "execution_count": 23,
   "metadata": {},
   "outputs": [
    {
     "name": "stdout",
     "output_type": "stream",
     "text": [
      "2-d array:\n",
      " [[3 5 2 4]\n",
      " [7 6 8 8]\n",
      " [1 6 7 7]]\n",
      "first element of 2-d array: 3\n",
      "3-d array:\n",
      " [[[8 1 5 9 8]\n",
      "  [9 4 3 0 3]\n",
      "  [5 0 2 3 8]\n",
      "  [1 3 3 3 7]]\n",
      "\n",
      " [[0 1 9 9 0]\n",
      "  [4 7 3 2 7]\n",
      "  [2 0 0 4 5]\n",
      "  [5 6 8 4 1]]\n",
      "\n",
      " [[4 9 8 1 1]\n",
      "  [7 9 9 3 6]\n",
      "  [7 2 0 3 5]\n",
      "  [9 4 4 6 4]]]\n",
      "first element of 3-d array: 8\n"
     ]
    }
   ],
   "source": [
    "# 2-d array\n",
    "print(\"2-d array:\\n\",x2)\n",
    "print(\"first element of 2-d array:\", x2[0,0])\n",
    "print(\"3-d array:\\n\",x3)\n",
    "print(\"first element of 3-d array:\", x3[0,0,0])"
   ]
  },
  {
   "cell_type": "markdown",
   "metadata": {},
   "source": [
    "# 5.6 NumPy数组的切片"
   ]
  },
  {
   "cell_type": "code",
   "execution_count": null,
   "metadata": {},
   "outputs": [],
   "source": []
  }
 ],
 "metadata": {
  "kernelspec": {
   "display_name": "Python 3",
   "language": "python",
   "name": "python3"
  },
  "language_info": {
   "codemirror_mode": {
    "name": "ipython",
    "version": 3
   },
   "file_extension": ".py",
   "mimetype": "text/x-python",
   "name": "python",
   "nbconvert_exporter": "python",
   "pygments_lexer": "ipython3",
   "version": "3.7.6"
  }
 },
 "nbformat": 4,
 "nbformat_minor": 4
}

{
 "cells": [
  {
   "cell_type": "code",
   "execution_count": 7,
   "metadata": {},
   "outputs": [],
   "source": [
    "#导入NumPy包\n",
    "# importing numpy package\n",
    "import numpy as np"
   ]
  },
  {
   "cell_type": "markdown",
   "metadata": {},
   "source": [
    "# 5.2 为何Numyp 数组优于列表"
   ]
  },
  {
   "cell_type": "code",
   "execution_count": 6,
   "metadata": {},
   "outputs": [
    {
     "ename": "TypeError",
     "evalue": "unsupported operand type(s) for /: 'list' and 'list'",
     "output_type": "error",
     "traceback": [
      "\u001b[1;31m---------------------------------------------------------------------------\u001b[0m",
      "\u001b[1;31mTypeError\u001b[0m                                 Traceback (most recent call last)",
      "\u001b[1;32m<ipython-input-6-d302dfdc68d3>\u001b[0m in \u001b[0;36m<module>\u001b[1;34m\u001b[0m\n\u001b[0;32m      2\u001b[0m \u001b[0mdistance\u001b[0m \u001b[1;33m=\u001b[0m \u001b[1;33m[\u001b[0m\u001b[1;36m55\u001b[0m\u001b[1;33m,\u001b[0m\u001b[1;36m60\u001b[0m\u001b[1;33m,\u001b[0m\u001b[1;36m45\u001b[0m\u001b[1;33m]\u001b[0m\u001b[1;33m\u001b[0m\u001b[1;33m\u001b[0m\u001b[0m\n\u001b[0;32m      3\u001b[0m \u001b[0mspeed\u001b[0m \u001b[1;33m=\u001b[0m \u001b[1;33m[\u001b[0m\u001b[1;36m6\u001b[0m\u001b[1;33m,\u001b[0m\u001b[1;36m10\u001b[0m\u001b[1;33m,\u001b[0m\u001b[1;36m7\u001b[0m\u001b[1;33m]\u001b[0m\u001b[1;33m\u001b[0m\u001b[1;33m\u001b[0m\u001b[0m\n\u001b[1;32m----> 4\u001b[1;33m \u001b[0mtime\u001b[0m \u001b[1;33m=\u001b[0m \u001b[0mdistance\u001b[0m\u001b[1;33m/\u001b[0m\u001b[0mspeed\u001b[0m\u001b[1;33m\u001b[0m\u001b[1;33m\u001b[0m\u001b[0m\n\u001b[0m\u001b[0;32m      5\u001b[0m \u001b[0mprint\u001b[0m\u001b[1;33m(\u001b[0m\u001b[1;34m\"time: \"\u001b[0m\u001b[1;33m,\u001b[0m\u001b[0mtime\u001b[0m\u001b[1;33m)\u001b[0m\u001b[1;33m\u001b[0m\u001b[1;33m\u001b[0m\u001b[0m\n",
      "\u001b[1;31mTypeError\u001b[0m: unsupported operand type(s) for /: 'list' and 'list'"
     ]
    }
   ],
   "source": [
    "# 5.2 为何Numyp 数组优于列表\n",
    "distance = [55,60,45]\n",
    "speed = [6,10,7]\n",
    "time = distance/speed\n",
    "print(\"time: \",time)"
   ]
  },
  {
   "cell_type": "code",
   "execution_count": 8,
   "metadata": {},
   "outputs": [
    {
     "name": "stdout",
     "output_type": "stream",
     "text": [
      "[18.33333333 10.          4.83333333]\n"
     ]
    }
   ],
   "source": [
    "#列表不能够直接进行数学计算！！ \n",
    "#NumPy数组 ===>\n",
    "import numpy as np\n",
    "distance = [55,40,29]\n",
    "speed = [3,4,6]\n",
    "dist = np.array(distance)\n",
    "spd = np.array(speed)\n",
    "time = dist/spd\n",
    "print(time)\n"
   ]
  },
  {
   "cell_type": "code",
   "execution_count": 4,
   "metadata": {},
   "outputs": [],
   "source": [
    "# dist和spd变量是NumPy数组类型，所以结果将自动设定为NumPy数组。"
   ]
  },
  {
   "cell_type": "markdown",
   "metadata": {},
   "source": [
    "# 5.3 NumPy数组属性"
   ]
  },
  {
   "cell_type": "code",
   "execution_count": 7,
   "metadata": {},
   "outputs": [
    {
     "name": "stdout",
     "output_type": "stream",
     "text": [
      "data type of array: float64\n",
      "No. of dimensions: 1\n",
      "size of each dimension: (3,)\n",
      "total size of array: 3\n"
     ]
    }
   ],
   "source": [
    "# 5.3 NumPy数组属性\n",
    "# NumPy数组有自己的属性，如维度，尺寸和形状，可以通过ndim、shape和size属性\n",
    "# 来获取对应的值。\n",
    "# data type\n",
    "print(\"data type of array:\",time.dtype)\n",
    "# No. of dimensions\n",
    "print(\"No. of dimensions:\", time.ndim)\n",
    "# size of each dimension\n",
    "print(\"size of each dimension:\", time.shape)\n",
    "# total size of array\n",
    "print(\"total size of array:\", time.size)"
   ]
  },
  {
   "cell_type": "markdown",
   "metadata": {},
   "source": [
    "# 5.4 创建NumPy数组"
   ]
  },
  {
   "cell_type": "code",
   "execution_count": 9,
   "metadata": {},
   "outputs": [
    {
     "name": "stdout",
     "output_type": "stream",
     "text": [
      "x1 ndim:  1\n",
      "x1 shape:  (6,)\n",
      "x1 size:  6\n",
      "x2 ndim:  2\n",
      "x2 shape:  (3, 4)\n",
      "x2 size:  12\n",
      "x3 ndim:  3\n",
      "x3 shape:  (3, 4, 5)\n",
      "x3 size:  60\n"
     ]
    }
   ],
   "source": [
    "# 5.4 创建NumPy数组\n",
    "# creating arrays with random values\n",
    "np.random.seed(0)  # seed for reproducibility 将随机种子设为0\n",
    "\n",
    "x1 = np.random.randint(10, size=6) # One-dimensional array\n",
    "x2 = np.random.randint(10, size=(3,4)) # Two-dimensional array\n",
    "x3 = np.random.randint(10, size=(3,4,5)) # Three-dimensional array\n",
    "\n",
    "print(\"x1 ndim: \", x1.ndim)\n",
    "print(\"x1 shape: \", x1.shape)\n",
    "print(\"x1 size: \", x1.size)\n",
    "\n",
    "print(\"x2 ndim: \", x2.ndim)\n",
    "print(\"x2 shape: \", x2.shape)\n",
    "print(\"x2 size: \", x2.size)\n",
    "\n",
    "print(\"x3 ndim: \", x3.ndim)\n",
    "print(\"x3 shape: \", x3.shape)\n",
    "print(\"x3 size: \", x3.size)"
   ]
  },
  {
   "cell_type": "markdown",
   "metadata": {},
   "source": [
    "# numpy.random.randint\n",
    "random.randint(low,high=None,size=None,dtpye=int)\n",
    "\n",
    "Return random integers from low(inclusive)to high(exclusive)\n",
    "\n",
    "[low,high)  if high is None then [0,low)\n"
   ]
  },
  {
   "cell_type": "code",
   "execution_count": 10,
   "metadata": {},
   "outputs": [
    {
     "data": {
      "text/plain": [
       "array([1, 1, 0, 1, 0, 0, 0, 0, 0, 1])"
      ]
     },
     "execution_count": 10,
     "metadata": {},
     "output_type": "execute_result"
    }
   ],
   "source": [
    "np.random.randint(2,size=10)"
   ]
  },
  {
   "cell_type": "code",
   "execution_count": 11,
   "metadata": {},
   "outputs": [
    {
     "data": {
      "text/plain": [
       "array([4, 3, 2, 5, 5])"
      ]
     },
     "execution_count": 11,
     "metadata": {},
     "output_type": "execute_result"
    }
   ],
   "source": [
    "np.random.randint(6,size=5)"
   ]
  },
  {
   "cell_type": "code",
   "execution_count": 12,
   "metadata": {},
   "outputs": [
    {
     "data": {
      "text/plain": [
       "array([[0, 1, 1, 3],\n",
       "       [0, 0, 1, 2],\n",
       "       [4, 2, 0, 3]])"
      ]
     },
     "execution_count": 12,
     "metadata": {},
     "output_type": "execute_result"
    }
   ],
   "source": [
    "np.random.randint(5,size=(3,4))"
   ]
  },
  {
   "cell_type": "code",
   "execution_count": 13,
   "metadata": {},
   "outputs": [
    {
     "data": {
      "text/plain": [
       "array([[2, 2, 0],\n",
       "       [1, 0, 2],\n",
       "       [2, 3, 2],\n",
       "       [3, 2, 1]])"
      ]
     },
     "execution_count": 13,
     "metadata": {},
     "output_type": "execute_result"
    }
   ],
   "source": [
    "np.random.randint(5,size=(4,3))"
   ]
  },
  {
   "cell_type": "markdown",
   "metadata": {},
   "source": [
    "使用NumPy的arange()函数创建另一个数组，该函数返回的值基本上在给定的区间内均匀分布。"
   ]
  },
  {
   "cell_type": "code",
   "execution_count": 14,
   "metadata": {},
   "outputs": [
    {
     "name": "stdout",
     "output_type": "stream",
     "text": [
      "sequential array with steps of 5:\n",
      " [ 0  5 10 15]\n"
     ]
    }
   ],
   "source": [
    "# 等差数组\n",
    "f = np.arange(0,20,5)\n",
    "print(\"sequential array with steps of 5:\\n\",f)"
   ]
  },
  {
   "cell_type": "markdown",
   "metadata": {},
   "source": [
    "# 5.5 访问NumPy数组中的元素"
   ]
  },
  {
   "cell_type": "code",
   "execution_count": 15,
   "metadata": {},
   "outputs": [
    {
     "name": "stdout",
     "output_type": "stream",
     "text": [
      "1-d array: [5 0 3 3 7 9]\n",
      "second element of first array: 0\n",
      "last element of first array: 9\n",
      "first element of first array: 5\n"
     ]
    }
   ],
   "source": [
    "# 1-d array\n",
    "print(\"1-d array:\", x1)\n",
    "print(\"second element of first array:\", x1[1])\n",
    "print(\"last element of first array:\", x1[-1])\n",
    "print(\"first element of first array:\", x1[0])"
   ]
  },
  {
   "cell_type": "code",
   "execution_count": 16,
   "metadata": {},
   "outputs": [
    {
     "name": "stdout",
     "output_type": "stream",
     "text": [
      "2-d array:\n",
      " [[3 5 2 4]\n",
      " [7 6 8 8]\n",
      " [1 6 7 7]]\n",
      "first element of 2-d array: 3\n",
      "3-d array:\n",
      " [[[8 1 5 9 8]\n",
      "  [9 4 3 0 3]\n",
      "  [5 0 2 3 8]\n",
      "  [1 3 3 3 7]]\n",
      "\n",
      " [[0 1 9 9 0]\n",
      "  [4 7 3 2 7]\n",
      "  [2 0 0 4 5]\n",
      "  [5 6 8 4 1]]\n",
      "\n",
      " [[4 9 8 1 1]\n",
      "  [7 9 9 3 6]\n",
      "  [7 2 0 3 5]\n",
      "  [9 4 4 6 4]]]\n",
      "first element of 3-d array: 8\n"
     ]
    }
   ],
   "source": [
    "# 2-d array\n",
    "print(\"2-d array:\\n\",x2)\n",
    "print(\"first element of 2-d array:\", x2[0,0])\n",
    "print(\"3-d array:\\n\",x3)\n",
    "print(\"first element of 3-d array:\", x3[0,0,0])"
   ]
  },
  {
   "cell_type": "markdown",
   "metadata": {},
   "source": [
    "# 5.6 NumPy数组的切片"
   ]
  },
  {
   "cell_type": "markdown",
   "metadata": {},
   "source": [
    "我们不光可以使用括号访问单个数组元素，也可以使用它来访问带有切片符号（用冒号字符标记）的子数组。\n",
    "\n",
    "与列表不同，数组切片返回的是数组数据的试图，不是副本。如果为数组创建一个子数组，然后修改企中的任何元素，那么院是数组也将被修改。"
   ]
  },
  {
   "cell_type": "code",
   "execution_count": 29,
   "metadata": {},
   "outputs": [
    {
     "name": "stdout",
     "output_type": "stream",
     "text": [
      "our array: [0 1 2 3 4 5 6 7 8 9]\n",
      "first five elements: [0 1 2 3 4]\n",
      "elements after index 5: [5 6 7 8 9]\n",
      "middle sub-array: [4 5 6]\n",
      "every other element: [0 2 4 6 8]\n",
      "every other element, starting at index 1: [1 3 5 7 9]\n",
      "elements in reversed order: [9 8 7 6 5 4 3 2 1 0]\n"
     ]
    }
   ],
   "source": [
    "# create an array\n",
    "x = np.arange(10)\n",
    "print(\"our array:\", x)\n",
    "print(\"first five elements:\",x[:5])\n",
    "print(\"elements after index 5:\",x[5:])\n",
    "print(\"middle sub-array:\",x[4:7])\n",
    "print(\"every other element:\", x[::2])\n",
    "print(\"every other element, starting at index 1:\", x[1::2])\n",
    "print(\"elements in reversed order:\", x[::-1])"
   ]
  },
  {
   "cell_type": "markdown",
   "metadata": {},
   "source": [
    "多维数组用逗号。"
   ]
  },
  {
   "cell_type": "code",
   "execution_count": 30,
   "metadata": {},
   "outputs": [
    {
     "name": "stdout",
     "output_type": "stream",
     "text": [
      "2-d array:\n",
      " [[3 5 2 4]\n",
      " [7 6 8 8]\n",
      " [1 6 7 7]]\n",
      "two rows, three columns:\n",
      " [[3 5 2]\n",
      " [7 6 8]]\n"
     ]
    }
   ],
   "source": [
    "print(\"2-d array:\\n\",x2)\n",
    "print(\"two rows, three columns:\\n\", x2[:2,:3])"
   ]
  },
  {
   "cell_type": "markdown",
   "metadata": {},
   "source": [
    "如果创建一个数组的子数组并对该子数组进行更改，那么原属数组也会随之更改。为确保数组的数据完整性，使用copy（）辅助原始数组，然后可以在不影响原始数组的情况下对组数组进行修改。"
   ]
  },
  {
   "cell_type": "code",
   "execution_count": 31,
   "metadata": {},
   "outputs": [
    {
     "name": "stdout",
     "output_type": "stream",
     "text": [
      "original 2-d array:\n",
      " [[3 5 2 4]\n",
      " [7 6 8 8]\n",
      " [1 6 7 7]]\n",
      "sub-array:\n",
      " [[3 5]\n",
      " [7 6]]\n",
      "modified sub array:\n",
      " [[88  5]\n",
      " [ 7  6]]\n",
      "original array after changes in sub-array:\n",
      " [[88  5  2  4]\n",
      " [ 7  6  8  8]\n",
      " [ 1  6  7  7]]\n",
      "making a copy of the original array\n",
      "copy of the original array:\n",
      " [[88  5]\n",
      " [ 7  6]]\n",
      "copied array after changes:\n",
      " [[42  5]\n",
      " [ 7  6]]\n",
      "original array:\n",
      " [[88  5  2  4]\n",
      " [ 7  6  8  8]\n",
      " [ 1  6  7  7]]\n"
     ]
    }
   ],
   "source": [
    "# original array\n",
    "print(\"original 2-d array:\\n\",x2)\n",
    "# creating a 2x2 subarray from the original array\n",
    "x2_sub = x2[:2,:2]\n",
    "print(\"sub-array:\\n\", x2_sub)\n",
    "# modifying sub-array\n",
    "x2_sub[0,0] = 88\n",
    "print(\"modified sub array:\\n\", x2_sub)\n",
    "# orignial array after sub-array changes\n",
    "print(\"original array after changes in sub-array:\\n\",x2)\n",
    "print(\"making a copy of the original array\")\n",
    "x2_sub_copy = x2[:2,:2].copy()\n",
    "print(\"copy of the original array:\\n\", x2_sub_copy)\n",
    "# modifying copied array\n",
    "x2_sub_copy[0,0] = 42\n",
    "print(\"copied array after changes:\\n\", x2_sub_copy)\n",
    "print(\"original array:\\n\",x2)"
   ]
  },
  {
   "cell_type": "markdown",
   "metadata": {},
   "source": [
    "# 5.7 数组连接"
   ]
  },
  {
   "cell_type": "code",
   "execution_count": 32,
   "metadata": {},
   "outputs": [],
   "source": [
    "# 数组合并：  \n",
    "# np.concatenate()    用于相同维度数组的合并\n",
    "# np.vstack()         处理混合维度的数组\n",
    "# np.hstack()         处理混合维度的数组\n"
   ]
  },
  {
   "cell_type": "code",
   "execution_count": 33,
   "metadata": {},
   "outputs": [
    {
     "data": {
      "text/plain": [
       "array([1, 2, 3, 3, 2, 1])"
      ]
     },
     "execution_count": 33,
     "metadata": {},
     "output_type": "execute_result"
    }
   ],
   "source": [
    "# creating two sample arrays\n",
    "x = np.array([1,2,3])\n",
    "y = np.array([3,2,1])\n",
    "# combining both arrays using concatenate\n",
    "np.concatenate([x,y])"
   ]
  },
  {
   "cell_type": "code",
   "execution_count": 34,
   "metadata": {},
   "outputs": [
    {
     "data": {
      "text/plain": [
       "array([[1, 2, 3],\n",
       "       [9, 8, 7],\n",
       "       [6, 5, 4]])"
      ]
     },
     "execution_count": 34,
     "metadata": {},
     "output_type": "execute_result"
    }
   ],
   "source": [
    "# creating a sample array\n",
    "x = np.array([1,2,3])\n",
    "# creating a 2-d array\n",
    "grid = np.array([[9,8,7],\n",
    "               [6,5,4]])\n",
    "# vertically stack the arrays\n",
    "np.vstack([x,grid])"
   ]
  },
  {
   "cell_type": "code",
   "execution_count": 35,
   "metadata": {},
   "outputs": [
    {
     "data": {
      "text/plain": [
       "array([[ 9,  8,  7, 99],\n",
       "       [ 6,  5,  4, 99]])"
      ]
     },
     "execution_count": 35,
     "metadata": {},
     "output_type": "execute_result"
    }
   ],
   "source": [
    "# horizontally stack the arrays\n",
    "y = np.array([[99],[99]])\n",
    "np.hstack([grid,y])"
   ]
  },
  {
   "cell_type": "code",
   "execution_count": null,
   "metadata": {},
   "outputs": [],
   "source": []
  }
 ],
 "metadata": {
  "kernelspec": {
   "display_name": "Python 3",
   "language": "python",
   "name": "python3"
  },
  "language_info": {
   "codemirror_mode": {
    "name": "ipython",
    "version": 3
   },
   "file_extension": ".py",
   "mimetype": "text/x-python",
   "name": "python",
   "nbconvert_exporter": "python",
   "pygments_lexer": "ipython3",
   "version": "3.7.6"
  }
 },
 "nbformat": 4,
 "nbformat_minor": 4
}

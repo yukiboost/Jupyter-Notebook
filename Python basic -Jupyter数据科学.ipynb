{
 "cells": [
  {
   "cell_type": "code",
   "execution_count": 1,
   "metadata": {},
   "outputs": [
    {
     "name": "stdout",
     "output_type": "stream",
     "text": [
      "Hello World\n"
     ]
    }
   ],
   "source": [
    "print(\"Hello World\")"
   ]
  },
  {
   "cell_type": "code",
   "execution_count": 11,
   "metadata": {},
   "outputs": [
    {
     "name": "stdout",
     "output_type": "stream",
     "text": [
      "128\n"
     ]
    }
   ],
   "source": [
    "print(29+99)"
   ]
  },
  {
   "cell_type": "code",
   "execution_count": 5,
   "metadata": {},
   "outputs": [
    {
     "name": "stdout",
     "output_type": "stream",
     "text": [
      "9783424243\n",
      "23425234\n",
      "adding of two numbers:  9806849477\n",
      "difference in numbers:  9759999009\n",
      "multiplication of numbers:  229179002213547862\n"
     ]
    }
   ],
   "source": [
    "a = int(input())\n",
    "b = int(input())\n",
    "print(\"adding of two numbers: \", a+b)\n",
    "print(\"difference in numbers: \", a-b)\n",
    "print(\"multiplication of numbers: \", a*b)"
   ]
  },
  {
   "cell_type": "code",
   "execution_count": 6,
   "metadata": {},
   "outputs": [],
   "source": [
    "#float: 有理数，如，1.23/3.2\n",
    "#int: 整数值， 如：1、2、-3\n",
    "#str: 字符串或文本\n",
    "#Bool 表示是（True）或否（False）"
   ]
  },
  {
   "cell_type": "markdown",
   "metadata": {},
   "source": [
    "#  列表与字典"
   ]
  },
  {
   "cell_type": "markdown",
   "metadata": {},
   "source": [
    "列表"
   ]
  },
  {
   "cell_type": "code",
   "execution_count": 13,
   "metadata": {},
   "outputs": [
    {
     "name": "stdout",
     "output_type": "stream",
     "text": [
      "<class 'list'>\n"
     ]
    }
   ],
   "source": [
    "# Creating an empty list in python\n",
    "Height = []\n",
    "print(type(Height))"
   ]
  },
  {
   "cell_type": "code",
   "execution_count": 9,
   "metadata": {},
   "outputs": [
    {
     "name": "stdout",
     "output_type": "stream",
     "text": [
      "[1.76, 1.8, 1.78, 1.65]\n"
     ]
    }
   ],
   "source": [
    "# A list containing heights\n",
    "height_list = [1.76,1.80,1.78,1.65]\n",
    "print(height_list)"
   ]
  },
  {
   "cell_type": "code",
   "execution_count": null,
   "metadata": {},
   "outputs": [],
   "source": [
    "# A list containing str and float\n",
    "name_height_list = [\"Tom\",1.76,\"James\",1.80,\"Kat\",1.78,\"Dom\",1.65]\n",
    "print(name_height_list)"
   ]
  },
  {
   "cell_type": "code",
   "execution_count": 14,
   "metadata": {},
   "outputs": [
    {
     "name": "stdout",
     "output_type": "stream",
     "text": [
      "NBA\n",
      "CBA\n"
     ]
    }
   ],
   "source": [
    "# 访问列表\n",
    "list = ['NBA','CBA','FBA']\n",
    "print(list[0])\n",
    "print(list[1])"
   ]
  },
  {
   "cell_type": "code",
   "execution_count": 15,
   "metadata": {},
   "outputs": [
    {
     "name": "stdout",
     "output_type": "stream",
     "text": [
      "['panda', 'dog', 'jopyter']\n"
     ]
    }
   ],
   "source": [
    "# 更改元素\n",
    "list = ['panda','cat','jopyter']\n",
    "list[1] = 'dog'\n",
    "print(list)"
   ]
  },
  {
   "cell_type": "code",
   "execution_count": 16,
   "metadata": {},
   "outputs": [
    {
     "name": "stdout",
     "output_type": "stream",
     "text": [
      "panda\n",
      "cat\n",
      "jopyter\n",
      "nba\n",
      "fba\n"
     ]
    }
   ],
   "source": [
    "# for循环go over list\n",
    "list = ['panda','cat','jopyter','nba','fba']\n",
    "for elem in list:\n",
    "    print(elem)"
   ]
  },
  {
   "cell_type": "code",
   "execution_count": 17,
   "metadata": {},
   "outputs": [
    {
     "name": "stdout",
     "output_type": "stream",
     "text": [
      "5\n"
     ]
    }
   ],
   "source": [
    "# len() 检查列表中元素数量\n",
    "list = ['panda','cat','jopyter','nba','fba']\n",
    "print(len(list))"
   ]
  },
  {
   "cell_type": "code",
   "execution_count": 18,
   "metadata": {},
   "outputs": [
    {
     "name": "stdout",
     "output_type": "stream",
     "text": [
      "['panda', 'cat', 'jopyter', 'nba', 'fba', 'java']\n"
     ]
    }
   ],
   "source": [
    "# append() 添加到列表最后\n",
    "list = ['panda','cat','jopyter','nba','fba']\n",
    "list.append('java')\n",
    "print(list)"
   ]
  },
  {
   "cell_type": "code",
   "execution_count": 19,
   "metadata": {},
   "outputs": [
    {
     "name": "stdout",
     "output_type": "stream",
     "text": [
      "['panda', 'cat', 'vocano', 'jopyter', 'nba', 'fba']\n"
     ]
    }
   ],
   "source": [
    "# insert() 添加到列表中特定位置\n",
    "list = ['panda','cat','jopyter','nba','fba']\n",
    "list.insert(2,'vocano')\n",
    "print(list)"
   ]
  },
  {
   "cell_type": "code",
   "execution_count": 24,
   "metadata": {},
   "outputs": [
    {
     "name": "stdout",
     "output_type": "stream",
     "text": [
      "['panda', 'cat', 'jopyter', 'fba']\n",
      "['panda', 'cat', 'jopyter']\n",
      "['panda', 'cat']\n"
     ]
    }
   ],
   "source": [
    "# remove() remove by name//  pop() remove by index\n",
    "list = ['panda','cat','jopyter','nba','fba']\n",
    "# remove element by name\n",
    "list.remove('nba')\n",
    "print(list)\n",
    "# remove element by index\n",
    "list.pop(3)\n",
    "print(list)\n",
    "# del() 语法结构略有不同\n",
    "del(list[2])\n",
    "print(list)"
   ]
  },
  {
   "cell_type": "code",
   "execution_count": 21,
   "metadata": {},
   "outputs": [
    {
     "name": "stdout",
     "output_type": "stream",
     "text": [
      "['cat', 'fba', 'jopyter', 'nba', 'panda']\n",
      "['panda', 'nba', 'jopyter', 'fba', 'cat']\n"
     ]
    }
   ],
   "source": [
    "# sort() 升序/降序\n",
    "list = ['panda','cat','jopyter','nba','fba']\n",
    "list.sort()\n",
    "print(list)\n",
    "list.sort(reverse=True)\n",
    "print(list)"
   ]
  },
  {
   "cell_type": "markdown",
   "metadata": {},
   "source": [
    "$$ 列表与数组"
   ]
  },
  {
   "cell_type": "markdown",
   "metadata": {},
   "source": [
    "# 列表与数组"
   ]
  },
  {
   "cell_type": "markdown",
   "metadata": {},
   "source": [
    "数组（Tuple），数组使用()，列表使用[]。\n",
    "数组是不可变，在声明数组后既不能对其进行修改和删除，也不嫩在其中添加任何新的数据项。数组不存在 append()、remove()、pop()方法。"
   ]
  },
  {
   "cell_type": "code",
   "execution_count": 25,
   "metadata": {},
   "outputs": [
    {
     "name": "stdout",
     "output_type": "stream",
     "text": [
      "('cs', 'ee', 'mga', 'bv')\n",
      "<class 'tuple'>\n"
     ]
    }
   ],
   "source": [
    "# tuple example\n",
    "tuple = ('cs','ee','mga','bv')\n",
    "print(tuple)\n",
    "print(type(tuple))"
   ]
  },
  {
   "cell_type": "markdown",
   "metadata": {},
   "source": [
    "字典--（Key-Value) "
   ]
  },
  {
   "cell_type": "code",
   "execution_count": 27,
   "metadata": {},
   "outputs": [
    {
     "name": "stdout",
     "output_type": "stream",
     "text": [
      "{'brand': 'kia', 'model': 'tesla', 'type': 'suv', 'year': '2020'}\n"
     ]
    }
   ],
   "source": [
    "# Dictionary example\n",
    "dict = {\n",
    "    'brand':'kia',\n",
    "    'model':'tesla',\n",
    "    'type':'suv',\n",
    "    'year':'2020'\n",
    "}\n",
    "print(dict)"
   ]
  },
  {
   "cell_type": "code",
   "execution_count": 28,
   "metadata": {},
   "outputs": [
    {
     "name": "stdout",
     "output_type": "stream",
     "text": [
      "kia\n",
      "kia\n"
     ]
    }
   ],
   "source": [
    "# access the brand value by key\n",
    "car_brand = dict['brand']\n",
    "print(car_brand)\n",
    "# access the brand value by get()\n",
    "carbrand = dict.get('brand')\n",
    "print(carbrand)"
   ]
  },
  {
   "cell_type": "code",
   "execution_count": 32,
   "metadata": {},
   "outputs": [
    {
     "name": "stdout",
     "output_type": "stream",
     "text": [
      "{'brand': 'nissan', 'model': 'tesla', 'type': 'suv', 'year': '2020', 'bradn': 'nissan'}\n"
     ]
    }
   ],
   "source": [
    "# update value\n",
    "\n",
    "dict['brand'] = 'nissan'\n",
    "print(dict)"
   ]
  },
  {
   "cell_type": "code",
   "execution_count": 37,
   "metadata": {},
   "outputs": [
    {
     "name": "stdout",
     "output_type": "stream",
     "text": [
      "key: brand\n",
      "key: model\n",
      "key: type\n",
      "key: year\n",
      "key: bradn\n",
      "value: nissan\n",
      "value: tesla\n",
      "value: suv\n",
      "value: 2020\n",
      "value: nissan\n"
     ]
    }
   ],
   "source": [
    "# for loop go over dict\n",
    "# print all keys\n",
    "for key in dict.keys():\n",
    "    print('key: '+key)\n",
    "# print all values:\n",
    "for value in dict.values():\n",
    "    print('value: '+value)"
   ]
  },
  {
   "cell_type": "code",
   "execution_count": 38,
   "metadata": {},
   "outputs": [
    {
     "name": "stdout",
     "output_type": "stream",
     "text": [
      "brand nissan\n",
      "model tesla\n",
      "type suv\n",
      "year 2020\n",
      "bradn nissan\n"
     ]
    }
   ],
   "source": [
    "# print key-value pairs\n",
    "for key, value in dict.items():\n",
    "    print(key,value)"
   ]
  },
  {
   "cell_type": "markdown",
   "metadata": {},
   "source": [
    "# 函数与包\n"
   ]
  },
  {
   "cell_type": "markdown",
   "metadata": {},
   "source": [
    "函数（Function）更好的将程序模块化并且提供更高的代码可复用度。"
   ]
  },
  {
   "cell_type": "code",
   "execution_count": 39,
   "metadata": {},
   "outputs": [
    {
     "name": "stdout",
     "output_type": "stream",
     "text": [
      "Help on built-in function len in module builtins:\n",
      "\n",
      "len(obj, /)\n",
      "    Return the number of items in a container.\n",
      "\n"
     ]
    }
   ],
   "source": [
    "# help(<函数名称>) \n",
    "help(len)"
   ]
  },
  {
   "cell_type": "code",
   "execution_count": 40,
   "metadata": {},
   "outputs": [
    {
     "name": "stdout",
     "output_type": "stream",
     "text": [
      "area is:  108.98844649760245\n"
     ]
    }
   ],
   "source": [
    "import math\n",
    "# define area as variable area\n",
    "area = 0\n",
    "#define radius as variable r\n",
    "r = 5.89\n",
    "# calculate area\n",
    "area = math.pi * r**2\n",
    "print('area is: ',area)"
   ]
  },
  {
   "cell_type": "code",
   "execution_count": 41,
   "metadata": {},
   "outputs": [
    {
     "name": "stdout",
     "output_type": "stream",
     "text": [
      "Hello World\n"
     ]
    }
   ],
   "source": [
    "# defining my own function\n",
    "def my_function():\n",
    "    print('Hello World')\n",
    "# call my function\n",
    "my_function()"
   ]
  },
  {
   "cell_type": "code",
   "execution_count": 42,
   "metadata": {},
   "outputs": [
    {
     "data": {
      "text/plain": [
       "17"
      ]
     },
     "execution_count": 42,
     "metadata": {},
     "output_type": "execute_result"
    }
   ],
   "source": [
    "# defining a function to return sun of two numbers\n",
    "def add(a,b):\n",
    "    return a+b\n",
    "# call the function\n",
    "add(8,9)"
   ]
  },
  {
   "cell_type": "code",
   "execution_count": 50,
   "metadata": {},
   "outputs": [
    {
     "data": {
      "text/plain": [
       "21"
      ]
     },
     "execution_count": 50,
     "metadata": {},
     "output_type": "execute_result"
    }
   ],
   "source": [
    "# defining a function with default parameter\n",
    "def multi(a,b = 3):\n",
    "    return a*b\n",
    "# call the function with only 'a' parameter\n",
    "multi(a=7)"
   ]
  },
  {
   "cell_type": "code",
   "execution_count": 51,
   "metadata": {},
   "outputs": [
    {
     "data": {
      "text/plain": [
       "18"
      ]
     },
     "execution_count": 51,
     "metadata": {},
     "output_type": "execute_result"
    }
   ],
   "source": [
    "# Define 'add()' function to accept any No. of parameters\n",
    "def add(*args):\n",
    "    return sum(args)\n",
    "# Calculate the sum of the numbers\n",
    "add(3,2,13)"
   ]
  },
  {
   "cell_type": "markdown",
   "metadata": {},
   "source": [
    "4.7 函数的全局变量与本地变量"
   ]
  },
  {
   "cell_type": "code",
   "execution_count": 53,
   "metadata": {},
   "outputs": [
    {
     "name": "stdout",
     "output_type": "stream",
     "text": [
      "???\n",
      "Data Science\n"
     ]
    }
   ],
   "source": [
    "# define a Global scope variable\n",
    "text = 'Data Science'\n",
    "def fun():\n",
    "    '''This function uses gloable scope variable'''\n",
    "    text = '???'\n",
    "    print(text)\n",
    "fun()\n",
    "def tt():\n",
    "    '''This function also uses gloable scope variable'''\n",
    "    print(text)\n",
    "tt()\n"
   ]
  },
  {
   "cell_type": "code",
   "execution_count": 54,
   "metadata": {},
   "outputs": [
    {
     "ename": "UnboundLocalError",
     "evalue": "local variable 'text' referenced before assignment",
     "output_type": "error",
     "traceback": [
      "\u001b[1;31m---------------------------------------------------------------------------\u001b[0m",
      "\u001b[1;31mUnboundLocalError\u001b[0m                         Traceback (most recent call last)",
      "\u001b[1;32m<ipython-input-54-9e23303fcd1a>\u001b[0m in \u001b[0;36m<module>\u001b[1;34m\u001b[0m\n\u001b[0;32m      5\u001b[0m \u001b[1;31m# define a Global scope variable\u001b[0m\u001b[1;33m\u001b[0m\u001b[1;33m\u001b[0m\u001b[1;33m\u001b[0m\u001b[0m\n\u001b[0;32m      6\u001b[0m \u001b[0mtext\u001b[0m \u001b[1;33m=\u001b[0m \u001b[1;34m'data'\u001b[0m\u001b[1;33m\u001b[0m\u001b[1;33m\u001b[0m\u001b[0m\n\u001b[1;32m----> 7\u001b[1;33m \u001b[0mfun\u001b[0m\u001b[1;33m(\u001b[0m\u001b[1;33m)\u001b[0m\u001b[1;33m\u001b[0m\u001b[1;33m\u001b[0m\u001b[0m\n\u001b[0m\u001b[0;32m      8\u001b[0m \u001b[0mprint\u001b[0m\u001b[1;33m(\u001b[0m\u001b[0mtext\u001b[0m\u001b[1;33m)\u001b[0m\u001b[1;33m\u001b[0m\u001b[1;33m\u001b[0m\u001b[0m\n",
      "\u001b[1;32m<ipython-input-54-9e23303fcd1a>\u001b[0m in \u001b[0;36mfun\u001b[1;34m()\u001b[0m\n\u001b[0;32m      1\u001b[0m \u001b[1;32mdef\u001b[0m \u001b[0mfun\u001b[0m\u001b[1;33m(\u001b[0m\u001b[1;33m)\u001b[0m\u001b[1;33m:\u001b[0m\u001b[1;33m\u001b[0m\u001b[1;33m\u001b[0m\u001b[0m\n\u001b[1;32m----> 2\u001b[1;33m     \u001b[0mprint\u001b[0m\u001b[1;33m(\u001b[0m\u001b[0mtext\u001b[0m\u001b[1;33m)\u001b[0m\u001b[1;33m\u001b[0m\u001b[1;33m\u001b[0m\u001b[0m\n\u001b[0m\u001b[0;32m      3\u001b[0m     \u001b[0mtext\u001b[0m \u001b[1;33m=\u001b[0m \u001b[1;34m'data'\u001b[0m\u001b[1;33m\u001b[0m\u001b[1;33m\u001b[0m\u001b[0m\n\u001b[0;32m      4\u001b[0m     \u001b[0mprint\u001b[0m\u001b[1;33m(\u001b[0m\u001b[0mtext\u001b[0m\u001b[1;33m)\u001b[0m\u001b[1;33m\u001b[0m\u001b[1;33m\u001b[0m\u001b[0m\n\u001b[0;32m      5\u001b[0m \u001b[1;31m# define a Global scope variable\u001b[0m\u001b[1;33m\u001b[0m\u001b[1;33m\u001b[0m\u001b[1;33m\u001b[0m\u001b[0m\n",
      "\u001b[1;31mUnboundLocalError\u001b[0m: local variable 'text' referenced before assignment"
     ]
    }
   ],
   "source": [
    "def fun():\n",
    "    print(text)\n",
    "    text = 'data'\n",
    "    print(text)\n",
    "# define a Global scope variable\n",
    "text = 'data'\n",
    "fun()\n",
    "print(text)"
   ]
  },
  {
   "cell_type": "code",
   "execution_count": 55,
   "metadata": {},
   "outputs": [
    {
     "name": "stdout",
     "output_type": "stream",
     "text": [
      "data\n",
      "data\n"
     ]
    }
   ],
   "source": [
    "# define globale variable at top!\n",
    "def fun():\n",
    "   # print(text)\n",
    "    text = 'data'\n",
    "    print(text)\n",
    "# define a Global scope variable\n",
    "text = 'data'\n",
    "fun()\n",
    "print(text)"
   ]
  },
  {
   "cell_type": "markdown",
   "metadata": {},
   "source": [
    "4.8 Lambda 函数"
   ]
  },
  {
   "cell_type": "markdown",
   "metadata": {},
   "source": [
    "不使用def关键子声明Lambda函数，而是使用lambda关键字。"
   ]
  },
  {
   "cell_type": "code",
   "execution_count": 1,
   "metadata": {},
   "outputs": [
    {
     "data": {
      "text/plain": [
       "10"
      ]
     },
     "execution_count": 1,
     "metadata": {},
     "output_type": "execute_result"
    }
   ],
   "source": [
    "def multiply(x):\n",
    "    return x*5\n",
    "multiply(2)"
   ]
  },
  {
   "cell_type": "code",
   "execution_count": 2,
   "metadata": {},
   "outputs": [
    {
     "data": {
      "text/plain": [
       "10"
      ]
     },
     "execution_count": 2,
     "metadata": {},
     "output_type": "execute_result"
    }
   ],
   "source": [
    "#same functionality with lambda function.\n",
    "multiply = lambda x: x*5\n",
    "multiply(2)"
   ]
  },
  {
   "cell_type": "code",
   "execution_count": 8,
   "metadata": {},
   "outputs": [
    {
     "data": {
      "text/plain": [
       "7"
      ]
     },
     "execution_count": 8,
     "metadata": {},
     "output_type": "execute_result"
    }
   ],
   "source": [
    "def sum(x,y):\n",
    "    return x+y\n",
    "sum(3,4)\n"
   ]
  },
  {
   "cell_type": "code",
   "execution_count": 10,
   "metadata": {},
   "outputs": [
    {
     "data": {
      "text/plain": [
       "8"
      ]
     },
     "execution_count": 10,
     "metadata": {},
     "output_type": "execute_result"
    }
   ],
   "source": [
    "#same operation with lambda function.\n",
    "sum = lambda x,y:x+y\n",
    "sum(2,6)"
   ]
  },
  {
   "cell_type": "code",
   "execution_count": 9,
   "metadata": {},
   "outputs": [
    {
     "data": {
      "text/plain": [
       "6"
      ]
     },
     "execution_count": 9,
     "metadata": {},
     "output_type": "execute_result"
    }
   ],
   "source": [
    "def dif(a,b):\n",
    "    return a-b\n",
    "dif(9,3)"
   ]
  },
  {
   "cell_type": "code",
   "execution_count": 11,
   "metadata": {},
   "outputs": [
    {
     "data": {
      "text/plain": [
       "2"
      ]
     },
     "execution_count": 11,
     "metadata": {},
     "output_type": "execute_result"
    }
   ],
   "source": [
    "#same operation with lambda function.\n",
    "dif = lambda a,b:a-b\n",
    "dif(9,7)"
   ]
  },
  {
   "cell_type": "markdown",
   "metadata": {},
   "source": [
    "当在短时间内需要一个在运行时才被创建的无名函数时，可以使用Lambda函数"
   ]
  },
  {
   "cell_type": "markdown",
   "metadata": {},
   "source": [
    "4.9 main in Python"
   ]
  },
  {
   "cell_type": "code",
   "execution_count": 16,
   "metadata": {},
   "outputs": [
    {
     "name": "stdout",
     "output_type": "stream",
     "text": [
      "__main__\n"
     ]
    }
   ],
   "source": [
    "print (__name__)"
   ]
  },
  {
   "cell_type": "code",
   "execution_count": 18,
   "metadata": {},
   "outputs": [
    {
     "name": "stdout",
     "output_type": "stream",
     "text": [
      "Executing as main program\n",
      "Value of __name__ is:  __main__\n",
      "This is from my_module.py file!\n"
     ]
    }
   ],
   "source": [
    "def hello():\n",
    "    print(\"This is from my_module.py file!\")\n",
    "if __name__ == \"__main__\":\n",
    "    print(\"Executing as main program\")\n",
    "    print(\"Value of __name__ is: \", __name__)\n",
    "    hello()"
   ]
  },
  {
   "cell_type": "markdown",
   "metadata": {},
   "source": [
    "如结果所示，我们创建了新的模板并将其作为主程序执行，因此__name__的值为__main__，这意味着满足if条件并且hello()函数被调用。\n",
    "现在再创建一个名为using_module.py的新文件 如下："
   ]
  },
  {
   "cell_type": "raw",
   "metadata": {},
   "source": [
    "import my_module\n",
    "my_module.hello()\n",
    "print(my_module.__name__)"
   ]
  },
  {
   "cell_type": "raw",
   "metadata": {},
   "source": [
    "输出：\n",
    "\n",
    "This is from my_module.py file!\n",
    "my_module"
   ]
  },
  {
   "cell_type": "raw",
   "metadata": {},
   "source": [
    "正如所见，在my_module中没有执行if语句，因为‘__name__’的值为my_module。这个小程序可以使读者了解到在python中的每个模块都有一个特殊的属性‘__name__’。当把模块作为主程序运行时，‘__name__’属性的值为‘__main__’，否则他的值为模块的名称。"
   ]
  },
  {
   "cell_type": "code",
   "execution_count": null,
   "metadata": {},
   "outputs": [],
   "source": []
  }
 ],
 "metadata": {
  "kernelspec": {
   "display_name": "Python 3",
   "language": "python",
   "name": "python3"
  },
  "language_info": {
   "codemirror_mode": {
    "name": "ipython",
    "version": 3
   },
   "file_extension": ".py",
   "mimetype": "text/x-python",
   "name": "python",
   "nbconvert_exporter": "python",
   "pygments_lexer": "ipython3",
   "version": "3.7.6"
  }
 },
 "nbformat": 4,
 "nbformat_minor": 5
}

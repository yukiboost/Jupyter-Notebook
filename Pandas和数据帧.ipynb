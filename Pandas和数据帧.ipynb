{
 "cells": [
  {
   "cell_type": "markdown",
   "metadata": {},
   "source": [
    "# 第6章 Pandas和数据帧（DataFrame）\n"
   ]
  },
  {
   "cell_type": "code",
   "execution_count": 1,
   "metadata": {},
   "outputs": [],
   "source": [
    "# importing Pandas package using alias\n",
    "import pandas as pd\n",
    "import numpy as np"
   ]
  },
  {
   "cell_type": "code",
   "execution_count": 2,
   "metadata": {},
   "outputs": [],
   "source": [
    "# Pandas 主要有两种广泛应用于数据科学的数据结构。\n",
    "# 序列 （Series）\n",
    "# 数据帧 （DataFrame）\n"
   ]
  },
  {
   "cell_type": "markdown",
   "metadata": {},
   "source": [
    "Pandas中的序列是一维标记数组，能够保存任何数据类型。如整数，浮点数和字符串，与NumPy的一维数组类似。除由程序员指定的值之外，Pandas还为每个值分配一个标签。如果程序员没有提供标签，那么将由Pandas分配标签（第一个元素为0，第二个元素为1，以此类推）。把标签分配给数据值的好处是，随着整个数据集变得更像字典，当每一个值都与一个标签关联时，可以更加简便地操作数据集。"
   ]
  },
  {
   "cell_type": "code",
   "execution_count": 3,
   "metadata": {
    "scrolled": false
   },
   "outputs": [
    {
     "name": "stdout",
     "output_type": "stream",
     "text": [
      "empty series example: Series([], dtype: float64)\n"
     ]
    },
    {
     "name": "stderr",
     "output_type": "stream",
     "text": [
      "C:\\Users\\Yext\\anaconda3\\lib\\site-packages\\ipykernel_launcher.py:3: DeprecationWarning: The default dtype for empty Series will be 'object' instead of 'float64' in a future version. Specify a dtype explicitly to silence this warning.\n",
      "  This is separate from the ipykernel package so we can avoid doing imports until\n"
     ]
    }
   ],
   "source": [
    "# Pandas序列可以通过pd.Series()构建\n",
    "# creating an empty Series\n",
    "x = pd.Series()\n",
    "print(\"empty series example:\",x)"
   ]
  },
  {
   "cell_type": "markdown",
   "metadata": {},
   "source": [
    "在输出单元格中，可以看到序列的默认数据类型为浮点型。接下来再使用数字列表创建另一个序列示例。"
   ]
  },
  {
   "cell_type": "code",
   "execution_count": 4,
   "metadata": {},
   "outputs": [
    {
     "name": "stdout",
     "output_type": "stream",
     "text": [
      "0    10\n",
      "1    20\n",
      "2    30\n",
      "3    50\n",
      "dtype: int64\n"
     ]
    }
   ],
   "source": [
    "# series example\n",
    "series1 = pd.Series([10,20,30,50])\n",
    "print(series1)"
   ]
  },
  {
   "cell_type": "markdown",
   "metadata": {},
   "source": [
    "可以看到输出形式是两列表格——第一列显示从零开始的索引，第二列显示对应的元素。该索引列是由序列自动生成的，如果想使用自定义索引名称重命名索引列，那么请使用索引参数。"
   ]
  },
  {
   "cell_type": "code",
   "execution_count": 5,
   "metadata": {},
   "outputs": [
    {
     "name": "stdout",
     "output_type": "stream",
     "text": [
      "a    10\n",
      "b    20\n",
      "c    30\n",
      "d    50\n",
      "dtype: int64\n"
     ]
    }
   ],
   "source": [
    "# re-indexing the default index column  自定义索引\n",
    "series2 = pd.Series([10,20,30,50], index = ['a','b','c','d'])\n",
    "print(series2)"
   ]
  },
  {
   "cell_type": "code",
   "execution_count": 6,
   "metadata": {},
   "outputs": [
    {
     "data": {
      "text/plain": [
       "20"
      ]
     },
     "execution_count": 6,
     "metadata": {},
     "output_type": "execute_result"
    }
   ],
   "source": [
    "# accessing a Series element\n",
    "series2['b']"
   ]
  },
  {
   "cell_type": "code",
   "execution_count": 7,
   "metadata": {},
   "outputs": [
    {
     "name": "stdout",
     "output_type": "stream",
     "text": [
      "adding 5 to Series:\n",
      " a    15\n",
      "b    25\n",
      "c    35\n",
      "d    55\n",
      "dtype: int64\n",
      "filtering series with greater than 30:\n",
      " d    50\n",
      "dtype: int64\n",
      "square root of Series elements:\n",
      " a    3.162278\n",
      "b    4.472136\n",
      "c    5.477226\n",
      "d    7.071068\n",
      "dtype: float64\n"
     ]
    }
   ],
   "source": [
    "# data manipulation with series\n",
    "print(\"adding 5 to Series:\\n\",series2 + 5)\n",
    "print(\"filtering series with greater than 30:\\n\",series2[series2>30])\n",
    "print(\"square root of Series elements:\\n\", np.sqrt(series2))"
   ]
  },
  {
   "cell_type": "code",
   "execution_count": 8,
   "metadata": {},
   "outputs": [
    {
     "data": {
      "text/plain": [
       "a    1\n",
       "b    2\n",
       "c    3\n",
       "dtype: int64"
      ]
     },
     "execution_count": 8,
     "metadata": {},
     "output_type": "execute_result"
    }
   ],
   "source": [
    "# 字典数据结构转换城序列式\n",
    "# a sample dictionary\n",
    "data = {'a': 1, 'b': 2, 'c': 3}\n",
    "# converting dictionary to series\n",
    "pd.Series(data)"
   ]
  },
  {
   "cell_type": "markdown",
   "metadata": {},
   "source": [
    "# DataFrame"
   ]
  },
  {
   "cell_type": "markdown",
   "metadata": {},
   "source": [
    "Pandas的数据帧是一个二维标记的数据结构，具有类型可能不同的两列数值，包含3个组件——索引、行和列。它也是一种表格型数据结构，其中数据以行和列的格式（类似于CSV和SQL文件）排列，但也可用于更高维度的数据集。数据帧对象可以包含同质和异质的值，可以把它看作是序列数据结构的逻辑扩展。与仅有一个索引的序列不同，数据帧对象同时有列索引和行索引，体现了其访问和处理数据的灵活性。"
   ]
  },
  {
   "cell_type": "code",
   "execution_count": 9,
   "metadata": {},
   "outputs": [
    {
     "name": "stdout",
     "output_type": "stream",
     "text": [
      "dataframe example:\n",
      " Empty DataFrame\n",
      "Columns: []\n",
      "Index: []\n"
     ]
    }
   ],
   "source": [
    "# creating an empty dataframe\n",
    "df = pd.DataFrame()\n",
    "print(\"dataframe example:\\n\",df)"
   ]
  },
  {
   "cell_type": "code",
   "execution_count": 10,
   "metadata": {},
   "outputs": [
    {
     "data": {
      "text/html": [
       "<div>\n",
       "<style scoped>\n",
       "    .dataframe tbody tr th:only-of-type {\n",
       "        vertical-align: middle;\n",
       "    }\n",
       "\n",
       "    .dataframe tbody tr th {\n",
       "        vertical-align: top;\n",
       "    }\n",
       "\n",
       "    .dataframe thead th {\n",
       "        text-align: right;\n",
       "    }\n",
       "</style>\n",
       "<table border=\"1\" class=\"dataframe\">\n",
       "  <thead>\n",
       "    <tr style=\"text-align: right;\">\n",
       "      <th></th>\n",
       "      <th>Name</th>\n",
       "      <th>Age</th>\n",
       "    </tr>\n",
       "  </thead>\n",
       "  <tbody>\n",
       "    <tr>\n",
       "      <th>0</th>\n",
       "      <td>Tom</td>\n",
       "      <td>10</td>\n",
       "    </tr>\n",
       "    <tr>\n",
       "      <th>1</th>\n",
       "      <td>Harry</td>\n",
       "      <td>12</td>\n",
       "    </tr>\n",
       "    <tr>\n",
       "      <th>2</th>\n",
       "      <td>Jim</td>\n",
       "      <td>13</td>\n",
       "    </tr>\n",
       "  </tbody>\n",
       "</table>\n",
       "</div>"
      ],
      "text/plain": [
       "    Name  Age\n",
       "0    Tom   10\n",
       "1  Harry   12\n",
       "2    Jim   13"
      ]
     },
     "execution_count": 10,
     "metadata": {},
     "output_type": "execute_result"
    }
   ],
   "source": [
    "# a sample list containing name and age\n",
    "data = [['Tom',10],['Harry',12],['Jim',13]]\n",
    "# creating a dataframe form givin list with column names\n",
    "df = pd.DataFrame(data, columns=['Name','Age'])\n",
    "df"
   ]
  },
  {
   "cell_type": "code",
   "execution_count": 11,
   "metadata": {},
   "outputs": [
    {
     "data": {
      "text/plain": [
       "0      Tom\n",
       "1    Harry\n",
       "2      Jim\n",
       "Name: Name, dtype: object"
      ]
     },
     "execution_count": 11,
     "metadata": {},
     "output_type": "execute_result"
    }
   ],
   "source": [
    "# accessing a dataframe column-first way\n",
    "df['Name']"
   ]
  },
  {
   "cell_type": "code",
   "execution_count": 12,
   "metadata": {},
   "outputs": [
    {
     "data": {
      "text/plain": [
       "0      Tom\n",
       "1    Harry\n",
       "2      Jim\n",
       "Name: Name, dtype: object"
      ]
     },
     "execution_count": 12,
     "metadata": {},
     "output_type": "execute_result"
    }
   ],
   "source": [
    "# accessing a dataframe column-second way\n",
    "df.Name"
   ]
  },
  {
   "cell_type": "code",
   "execution_count": 13,
   "metadata": {},
   "outputs": [
    {
     "data": {
      "text/html": [
       "<div>\n",
       "<style scoped>\n",
       "    .dataframe tbody tr th:only-of-type {\n",
       "        vertical-align: middle;\n",
       "    }\n",
       "\n",
       "    .dataframe tbody tr th {\n",
       "        vertical-align: top;\n",
       "    }\n",
       "\n",
       "    .dataframe thead th {\n",
       "        text-align: right;\n",
       "    }\n",
       "</style>\n",
       "<table border=\"1\" class=\"dataframe\">\n",
       "  <thead>\n",
       "    <tr style=\"text-align: right;\">\n",
       "      <th></th>\n",
       "      <th>Name</th>\n",
       "      <th>Age</th>\n",
       "      <th>Year</th>\n",
       "    </tr>\n",
       "  </thead>\n",
       "  <tbody>\n",
       "    <tr>\n",
       "      <th>0</th>\n",
       "      <td>Tom</td>\n",
       "      <td>10</td>\n",
       "      <td>2020</td>\n",
       "    </tr>\n",
       "    <tr>\n",
       "      <th>1</th>\n",
       "      <td>Harry</td>\n",
       "      <td>12</td>\n",
       "      <td>2020</td>\n",
       "    </tr>\n",
       "    <tr>\n",
       "      <th>2</th>\n",
       "      <td>Jim</td>\n",
       "      <td>13</td>\n",
       "      <td>2020</td>\n",
       "    </tr>\n",
       "  </tbody>\n",
       "</table>\n",
       "</div>"
      ],
      "text/plain": [
       "    Name  Age  Year\n",
       "0    Tom   10  2020\n",
       "1  Harry   12  2020\n",
       "2    Jim   13  2020"
      ]
     },
     "execution_count": 13,
     "metadata": {},
     "output_type": "execute_result"
    }
   ],
   "source": [
    "# adding a column in existing dataframe\n",
    "df['Year'] = 2020\n",
    "df"
   ]
  },
  {
   "cell_type": "code",
   "execution_count": 14,
   "metadata": {},
   "outputs": [
    {
     "name": "stdout",
     "output_type": "stream",
     "text": [
      "orignial dataframe:\n",
      "     Name  Age  Year\n",
      "0    Tom   10  2020\n",
      "1  Harry   12  2020\n",
      "2    Jim   13  2020\n",
      "dataframe after del:\n",
      "     Name  Age\n",
      "0    Tom   10\n",
      "1  Harry   12\n",
      "2    Jim   13\n",
      "dataframe after pop:\n",
      "     Name\n",
      "0    Tom\n",
      "1  Harry\n",
      "2    Jim\n"
     ]
    }
   ],
   "source": [
    "# 删除列也是一项比较简单的任务，可以使用del或.pop()完成\n",
    "print(\"orignial dataframe:\\n\", df)\n",
    "del df['Year']\n",
    "print(\"dataframe after del:\\n\",df)\n",
    "df.pop('Age')\n",
    "print(\"dataframe after pop:\\n\",df)"
   ]
  },
  {
   "cell_type": "markdown",
   "metadata": {},
   "source": [
    "# 6.3 .loc[] & .iloc[]"
   ]
  },
  {
   "cell_type": "code",
   "execution_count": 15,
   "metadata": {
    "scrolled": true
   },
   "outputs": [
    {
     "data": {
      "text/html": [
       "<div>\n",
       "<style scoped>\n",
       "    .dataframe tbody tr th:only-of-type {\n",
       "        vertical-align: middle;\n",
       "    }\n",
       "\n",
       "    .dataframe tbody tr th {\n",
       "        vertical-align: top;\n",
       "    }\n",
       "\n",
       "    .dataframe thead th {\n",
       "        text-align: right;\n",
       "    }\n",
       "</style>\n",
       "<table border=\"1\" class=\"dataframe\">\n",
       "  <thead>\n",
       "    <tr style=\"text-align: right;\">\n",
       "      <th></th>\n",
       "      <th>Company</th>\n",
       "      <th>Price</th>\n",
       "      <th>Ticker</th>\n",
       "    </tr>\n",
       "  </thead>\n",
       "  <tbody>\n",
       "    <tr>\n",
       "      <th>0</th>\n",
       "      <td>American Express</td>\n",
       "      <td>95</td>\n",
       "      <td>AXP</td>\n",
       "    </tr>\n",
       "    <tr>\n",
       "      <th>1</th>\n",
       "      <td>Cisco</td>\n",
       "      <td>25</td>\n",
       "      <td>CSCO</td>\n",
       "    </tr>\n",
       "    <tr>\n",
       "      <th>2</th>\n",
       "      <td>Walt Disney</td>\n",
       "      <td>85</td>\n",
       "      <td>DIS</td>\n",
       "    </tr>\n",
       "    <tr>\n",
       "      <th>3</th>\n",
       "      <td>Microsoft</td>\n",
       "      <td>41</td>\n",
       "      <td>MSFT</td>\n",
       "    </tr>\n",
       "  </tbody>\n",
       "</table>\n",
       "</div>"
      ],
      "text/plain": [
       "            Company  Price Ticker\n",
       "0  American Express     95    AXP\n",
       "1             Cisco     25   CSCO\n",
       "2       Walt Disney     85    DIS\n",
       "3         Microsoft     41   MSFT"
      ]
     },
     "execution_count": 15,
     "metadata": {},
     "output_type": "execute_result"
    }
   ],
   "source": [
    "# a sample dataframe containing company stock data\n",
    "data = pd.DataFrame({'Company':['American Express','Cisco','Walt Disney','Microsoft'],\n",
    "                     'Price': [95,25,85,41],\n",
    "                   'Ticker':['AXP','CSCO','DIS','MSFT'],\n",
    "                   })\n",
    "data"
   ]
  },
  {
   "cell_type": "markdown",
   "metadata": {},
   "source": [
    "要访问company列中索引为0的值，可以使用标签或通过指示位置来实现。对于基于标签的索引，可以使用.loc[]；而对于基于位置的索引，可以使用.iloc[]"
   ]
  },
  {
   "cell_type": "code",
   "execution_count": 16,
   "metadata": {},
   "outputs": [
    {
     "name": "stdout",
     "output_type": "stream",
     "text": [
      "American Express\n",
      "American Express\n"
     ]
    }
   ],
   "source": [
    "# access the value that is at index 0, in column 'Company' using loc\n",
    "print(data.loc[0]['Company'])\n",
    "# access the value that is at index 0, in column 'Company' using iloc\n",
    "print(data.iloc[0][0])"
   ]
  },
  {
   "cell_type": "code",
   "execution_count": 17,
   "metadata": {},
   "outputs": [
    {
     "name": "stdout",
     "output_type": "stream",
     "text": [
      "Company    Microsoft\n",
      "Price             41\n",
      "Ticker          MSFT\n",
      "Name: 3, dtype: object\n"
     ]
    }
   ],
   "source": [
    "print(data.iloc[3])\n"
   ]
  },
  {
   "cell_type": "code",
   "execution_count": 18,
   "metadata": {},
   "outputs": [
    {
     "name": "stdout",
     "output_type": "stream",
     "text": [
      "Cisco\n"
     ]
    }
   ],
   "source": [
    "print(data.loc[1][0])"
   ]
  },
  {
   "cell_type": "markdown",
   "metadata": {},
   "source": [
    "# 数据帧函数"
   ]
  },
  {
   "cell_type": "code",
   "execution_count": 19,
   "metadata": {},
   "outputs": [
    {
     "name": "stdout",
     "output_type": "stream",
     "text": [
      "Top five data:\n",
      "             Company  Price Ticker\n",
      "0  American Express     95    AXP\n",
      "1             Cisco     25   CSCO\n",
      "2       Walt Disney     85    DIS\n",
      "3         Microsoft     41   MSFT\n",
      "Below 5 data:\n",
      "             Company  Price Ticker\n",
      "0  American Express     95    AXP\n",
      "1             Cisco     25   CSCO\n",
      "2       Walt Disney     85    DIS\n",
      "3         Microsoft     41   MSFT\n"
     ]
    }
   ],
   "source": [
    "# inspecting top 5 rows of a dataframe\n",
    "print(\"Top five data:\\n\",data.head())\n",
    "# inspecting below 5 rows of a dataframe\n",
    "print(\"Below 5 data:\\n\",data.tail())"
   ]
  },
  {
   "cell_type": "code",
   "execution_count": 20,
   "metadata": {
    "scrolled": true
   },
   "outputs": [
    {
     "data": {
      "text/plain": [
       "Company    object\n",
       "Price       int64\n",
       "Ticker     object\n",
       "dtype: object"
      ]
     },
     "execution_count": 20,
     "metadata": {},
     "output_type": "execute_result"
    }
   ],
   "source": [
    "# check data type of columns\n",
    "data.dtypes"
   ]
  },
  {
   "cell_type": "markdown",
   "metadata": {},
   "source": [
    "Pandas数据帧还有一种独特的方法，可以提供数据集的描述性统计信息（平均值、中位数及计数等）。要了解这些统计信息，请使用.describe()"
   ]
  },
  {
   "cell_type": "code",
   "execution_count": 21,
   "metadata": {},
   "outputs": [
    {
     "data": {
      "text/html": [
       "<div>\n",
       "<style scoped>\n",
       "    .dataframe tbody tr th:only-of-type {\n",
       "        vertical-align: middle;\n",
       "    }\n",
       "\n",
       "    .dataframe tbody tr th {\n",
       "        vertical-align: top;\n",
       "    }\n",
       "\n",
       "    .dataframe thead th {\n",
       "        text-align: right;\n",
       "    }\n",
       "</style>\n",
       "<table border=\"1\" class=\"dataframe\">\n",
       "  <thead>\n",
       "    <tr style=\"text-align: right;\">\n",
       "      <th></th>\n",
       "      <th>Price</th>\n",
       "    </tr>\n",
       "  </thead>\n",
       "  <tbody>\n",
       "    <tr>\n",
       "      <th>count</th>\n",
       "      <td>4.000000</td>\n",
       "    </tr>\n",
       "    <tr>\n",
       "      <th>mean</th>\n",
       "      <td>61.500000</td>\n",
       "    </tr>\n",
       "    <tr>\n",
       "      <th>std</th>\n",
       "      <td>33.798422</td>\n",
       "    </tr>\n",
       "    <tr>\n",
       "      <th>min</th>\n",
       "      <td>25.000000</td>\n",
       "    </tr>\n",
       "    <tr>\n",
       "      <th>25%</th>\n",
       "      <td>37.000000</td>\n",
       "    </tr>\n",
       "    <tr>\n",
       "      <th>50%</th>\n",
       "      <td>63.000000</td>\n",
       "    </tr>\n",
       "    <tr>\n",
       "      <th>75%</th>\n",
       "      <td>87.500000</td>\n",
       "    </tr>\n",
       "    <tr>\n",
       "      <th>max</th>\n",
       "      <td>95.000000</td>\n",
       "    </tr>\n",
       "  </tbody>\n",
       "</table>\n",
       "</div>"
      ],
      "text/plain": [
       "           Price\n",
       "count   4.000000\n",
       "mean   61.500000\n",
       "std    33.798422\n",
       "min    25.000000\n",
       "25%    37.000000\n",
       "50%    63.000000\n",
       "75%    87.500000\n",
       "max    95.000000"
      ]
     },
     "execution_count": 21,
     "metadata": {},
     "output_type": "execute_result"
    }
   ],
   "source": [
    "# descriptive statistics of data\n",
    "data.describe()"
   ]
  },
  {
   "cell_type": "code",
   "execution_count": 22,
   "metadata": {},
   "outputs": [
    {
     "name": "stdout",
     "output_type": "stream",
     "text": [
      "<class 'pandas.core.frame.DataFrame'>\n",
      "RangeIndex: 4 entries, 0 to 3\n",
      "Data columns (total 3 columns):\n",
      " #   Column   Non-Null Count  Dtype \n",
      "---  ------   --------------  ----- \n",
      " 0   Company  4 non-null      object\n",
      " 1   Price    4 non-null      int64 \n",
      " 2   Ticker   4 non-null      object\n",
      "dtypes: int64(1), object(2)\n",
      "memory usage: 224.0+ bytes\n"
     ]
    }
   ],
   "source": [
    "# information of the dataframe 数据信息\n",
    "data.info()"
   ]
  },
  {
   "cell_type": "markdown",
   "metadata": {},
   "source": [
    "# 6.5 处理数据帧中的缺失值"
   ]
  },
  {
   "cell_type": "markdown",
   "metadata": {},
   "source": [
    "数据科学家经常会遇到未清洗的数据中存在缺失值的情况。这里的缺失意味着由某些原因导致数据不可用（NA），但是也不能因此就忽略所丢失的数据。实际上，在应用机器学习算法之前，需要处理这些缺失值。Pandas提供了一种灵活的方法来处理丢失的数据，它使用NaN（非数字）或NaT作为缺失值的默认标记。借助于此，可以使用isnull()函数轻松地检测到缺失值。"
   ]
  },
  {
   "cell_type": "code",
   "execution_count": 28,
   "metadata": {},
   "outputs": [
    {
     "data": {
      "text/html": [
       "<div>\n",
       "<style scoped>\n",
       "    .dataframe tbody tr th:only-of-type {\n",
       "        vertical-align: middle;\n",
       "    }\n",
       "\n",
       "    .dataframe tbody tr th {\n",
       "        vertical-align: top;\n",
       "    }\n",
       "\n",
       "    .dataframe thead th {\n",
       "        text-align: right;\n",
       "    }\n",
       "</style>\n",
       "<table border=\"1\" class=\"dataframe\">\n",
       "  <thead>\n",
       "    <tr style=\"text-align: right;\">\n",
       "      <th></th>\n",
       "      <th>One</th>\n",
       "      <th>Two</th>\n",
       "      <th>Three</th>\n",
       "    </tr>\n",
       "  </thead>\n",
       "  <tbody>\n",
       "    <tr>\n",
       "      <th>a</th>\n",
       "      <td>-0.159222</td>\n",
       "      <td>-1.411017</td>\n",
       "      <td>1.454112</td>\n",
       "    </tr>\n",
       "    <tr>\n",
       "      <th>b</th>\n",
       "      <td>NaN</td>\n",
       "      <td>NaN</td>\n",
       "      <td>NaN</td>\n",
       "    </tr>\n",
       "    <tr>\n",
       "      <th>c</th>\n",
       "      <td>1.210108</td>\n",
       "      <td>0.242917</td>\n",
       "      <td>0.786402</td>\n",
       "    </tr>\n",
       "    <tr>\n",
       "      <th>d</th>\n",
       "      <td>NaN</td>\n",
       "      <td>NaN</td>\n",
       "      <td>NaN</td>\n",
       "    </tr>\n",
       "    <tr>\n",
       "      <th>e</th>\n",
       "      <td>-0.774799</td>\n",
       "      <td>-1.463119</td>\n",
       "      <td>-1.528251</td>\n",
       "    </tr>\n",
       "    <tr>\n",
       "      <th>f</th>\n",
       "      <td>1.062209</td>\n",
       "      <td>1.182602</td>\n",
       "      <td>-0.771568</td>\n",
       "    </tr>\n",
       "    <tr>\n",
       "      <th>g</th>\n",
       "      <td>NaN</td>\n",
       "      <td>NaN</td>\n",
       "      <td>NaN</td>\n",
       "    </tr>\n",
       "    <tr>\n",
       "      <th>h</th>\n",
       "      <td>1.526785</td>\n",
       "      <td>0.299881</td>\n",
       "      <td>1.525348</td>\n",
       "    </tr>\n",
       "  </tbody>\n",
       "</table>\n",
       "</div>"
      ],
      "text/plain": [
       "        One       Two     Three\n",
       "a -0.159222 -1.411017  1.454112\n",
       "b       NaN       NaN       NaN\n",
       "c  1.210108  0.242917  0.786402\n",
       "d       NaN       NaN       NaN\n",
       "e -0.774799 -1.463119 -1.528251\n",
       "f  1.062209  1.182602 -0.771568\n",
       "g       NaN       NaN       NaN\n",
       "h  1.526785  0.299881  1.525348"
      ]
     },
     "execution_count": 28,
     "metadata": {},
     "output_type": "execute_result"
    }
   ],
   "source": [
    "# a sample dataframe\n",
    "df = pd.DataFrame(np.random.randn(5,3), \n",
    "                  index = ['a','c','e','f','h'], \n",
    "                  columns = ['One','Two','Three'])\n",
    "# creating a data with missing values by reindexing\n",
    "df2 = df.reindex(['a','b','c','d','e','f','g','h'])\n",
    "df2"
   ]
  },
  {
   "cell_type": "markdown",
   "metadata": {},
   "source": [
    "可以将缺失的值视为NaN，然后使用isnull()函数检查是否存在缺失值，最后使用sum()函数统计缺失值的数量，如图6-21所示。isnull()函数的作用是返回一个尺寸一致的布尔值，以指示数值是否缺失；而sum()函数的作用是统计布尔值为真的数量。"
   ]
  },
  {
   "cell_type": "code",
   "execution_count": 24,
   "metadata": {},
   "outputs": [
    {
     "name": "stdout",
     "output_type": "stream",
     "text": [
      "     One    Two  Three\n",
      "a  False  False  False\n",
      "b   True   True   True\n",
      "c  False  False  False\n",
      "d   True   True   True\n",
      "e  False  False  False\n",
      "f  False  False  False\n",
      "g   True   True   True\n",
      "h  False  False  False\n",
      "Count if missing values:\n",
      " One      3\n",
      "Two      3\n",
      "Three    3\n",
      "dtype: int64\n"
     ]
    }
   ],
   "source": [
    "# checking missing values using isbull()\n",
    "print(df2.isnull())\n",
    "missing_values_count = df2.isnull().sum()\n",
    "print(\"Count if missing values:\\n\", missing_values_count)"
   ]
  },
  {
   "cell_type": "markdown",
   "metadata": {},
   "source": [
    "一旦知道缺失值的总数，就可以考虑如何处理这些值了。当不知道为什么会有缺失值时，一种简单的方法是使用.dropna()函数删除它们"
   ]
  },
  {
   "cell_type": "code",
   "execution_count": 25,
   "metadata": {},
   "outputs": [
    {
     "name": "stdout",
     "output_type": "stream",
     "text": [
      "        One       Two     Three\n",
      "a  1.032503 -1.906586  0.035877\n",
      "c  0.183757  0.755848 -0.716863\n",
      "e -0.005347  1.263301  0.621241\n",
      "f  0.573832 -0.680203 -0.207532\n",
      "h  1.857959 -0.099415 -0.875876\n"
     ]
    }
   ],
   "source": [
    "# remove all the rows that contain a missing value\n",
    "df2 = df.dropna()\n",
    "print(df2)"
   ]
  },
  {
   "cell_type": "markdown",
   "metadata": {},
   "source": [
    "dropna()也能够应用于列，可以使用dropna()函数中的axis=1参数删除所有至少有一个缺失值的列。作为示例，要把这种方法应用在原始的df2数据帧上。"
   ]
  },
  {
   "cell_type": "code",
   "execution_count": 29,
   "metadata": {},
   "outputs": [
    {
     "data": {
      "text/html": [
       "<div>\n",
       "<style scoped>\n",
       "    .dataframe tbody tr th:only-of-type {\n",
       "        vertical-align: middle;\n",
       "    }\n",
       "\n",
       "    .dataframe tbody tr th {\n",
       "        vertical-align: top;\n",
       "    }\n",
       "\n",
       "    .dataframe thead th {\n",
       "        text-align: right;\n",
       "    }\n",
       "</style>\n",
       "<table border=\"1\" class=\"dataframe\">\n",
       "  <thead>\n",
       "    <tr style=\"text-align: right;\">\n",
       "      <th></th>\n",
       "    </tr>\n",
       "  </thead>\n",
       "  <tbody>\n",
       "    <tr>\n",
       "      <th>a</th>\n",
       "    </tr>\n",
       "    <tr>\n",
       "      <th>b</th>\n",
       "    </tr>\n",
       "    <tr>\n",
       "      <th>c</th>\n",
       "    </tr>\n",
       "    <tr>\n",
       "      <th>d</th>\n",
       "    </tr>\n",
       "    <tr>\n",
       "      <th>e</th>\n",
       "    </tr>\n",
       "  </tbody>\n",
       "</table>\n",
       "</div>"
      ],
      "text/plain": [
       "Empty DataFrame\n",
       "Columns: []\n",
       "Index: [a, b, c, d, e]"
      ]
     },
     "execution_count": 29,
     "metadata": {},
     "output_type": "execute_result"
    }
   ],
   "source": [
    "# remove all columns with at least one missing value 需要重新运行df2\n",
    "column_with_na_dropped = df2.dropna(axis=1)\n",
    "column_with_na_dropped.head()"
   ]
  },
  {
   "cell_type": "markdown",
   "metadata": {},
   "source": [
    "基于列来删除NaN值可能有风险，因为如果每一列都有NaN值，则会丢失所有列。在这种情况下，基于行的dropna()方法比较有用。"
   ]
  },
  {
   "cell_type": "markdown",
   "metadata": {},
   "source": [
    "第二种处理缺失值的方法是用零、平均值、中间值或者单词填充。一起来看一看如何填充缺失的值"
   ]
  },
  {
   "cell_type": "code",
   "execution_count": 30,
   "metadata": {},
   "outputs": [
    {
     "data": {
      "text/html": [
       "<div>\n",
       "<style scoped>\n",
       "    .dataframe tbody tr th:only-of-type {\n",
       "        vertical-align: middle;\n",
       "    }\n",
       "\n",
       "    .dataframe tbody tr th {\n",
       "        vertical-align: top;\n",
       "    }\n",
       "\n",
       "    .dataframe thead th {\n",
       "        text-align: right;\n",
       "    }\n",
       "</style>\n",
       "<table border=\"1\" class=\"dataframe\">\n",
       "  <thead>\n",
       "    <tr style=\"text-align: right;\">\n",
       "      <th></th>\n",
       "      <th>One</th>\n",
       "      <th>Two</th>\n",
       "      <th>Three</th>\n",
       "    </tr>\n",
       "  </thead>\n",
       "  <tbody>\n",
       "    <tr>\n",
       "      <th>a</th>\n",
       "      <td>-0.159222</td>\n",
       "      <td>-1.411017</td>\n",
       "      <td>1.454112</td>\n",
       "    </tr>\n",
       "    <tr>\n",
       "      <th>b</th>\n",
       "      <td>0.000000</td>\n",
       "      <td>0.000000</td>\n",
       "      <td>0.000000</td>\n",
       "    </tr>\n",
       "    <tr>\n",
       "      <th>c</th>\n",
       "      <td>1.210108</td>\n",
       "      <td>0.242917</td>\n",
       "      <td>0.786402</td>\n",
       "    </tr>\n",
       "    <tr>\n",
       "      <th>d</th>\n",
       "      <td>0.000000</td>\n",
       "      <td>0.000000</td>\n",
       "      <td>0.000000</td>\n",
       "    </tr>\n",
       "    <tr>\n",
       "      <th>e</th>\n",
       "      <td>-0.774799</td>\n",
       "      <td>-1.463119</td>\n",
       "      <td>-1.528251</td>\n",
       "    </tr>\n",
       "    <tr>\n",
       "      <th>f</th>\n",
       "      <td>1.062209</td>\n",
       "      <td>1.182602</td>\n",
       "      <td>-0.771568</td>\n",
       "    </tr>\n",
       "    <tr>\n",
       "      <th>g</th>\n",
       "      <td>0.000000</td>\n",
       "      <td>0.000000</td>\n",
       "      <td>0.000000</td>\n",
       "    </tr>\n",
       "    <tr>\n",
       "      <th>h</th>\n",
       "      <td>1.526785</td>\n",
       "      <td>0.299881</td>\n",
       "      <td>1.525348</td>\n",
       "    </tr>\n",
       "  </tbody>\n",
       "</table>\n",
       "</div>"
      ],
      "text/plain": [
       "        One       Two     Three\n",
       "a -0.159222 -1.411017  1.454112\n",
       "b  0.000000  0.000000  0.000000\n",
       "c  1.210108  0.242917  0.786402\n",
       "d  0.000000  0.000000  0.000000\n",
       "e -0.774799 -1.463119 -1.528251\n",
       "f  1.062209  1.182602 -0.771568\n",
       "g  0.000000  0.000000  0.000000\n",
       "h  1.526785  0.299881  1.525348"
      ]
     },
     "execution_count": 30,
     "metadata": {},
     "output_type": "execute_result"
    }
   ],
   "source": [
    "# filling NaN with zeros\n",
    "df3 = df2.fillna(0)\n",
    "df3"
   ]
  },
  {
   "cell_type": "code",
   "execution_count": 31,
   "metadata": {},
   "outputs": [
    {
     "data": {
      "text/html": [
       "<div>\n",
       "<style scoped>\n",
       "    .dataframe tbody tr th:only-of-type {\n",
       "        vertical-align: middle;\n",
       "    }\n",
       "\n",
       "    .dataframe tbody tr th {\n",
       "        vertical-align: top;\n",
       "    }\n",
       "\n",
       "    .dataframe thead th {\n",
       "        text-align: right;\n",
       "    }\n",
       "</style>\n",
       "<table border=\"1\" class=\"dataframe\">\n",
       "  <thead>\n",
       "    <tr style=\"text-align: right;\">\n",
       "      <th></th>\n",
       "      <th>One</th>\n",
       "      <th>Two</th>\n",
       "      <th>Three</th>\n",
       "    </tr>\n",
       "  </thead>\n",
       "  <tbody>\n",
       "    <tr>\n",
       "      <th>a</th>\n",
       "      <td>-0.159222</td>\n",
       "      <td>-1.411017</td>\n",
       "      <td>1.454112</td>\n",
       "    </tr>\n",
       "    <tr>\n",
       "      <th>b</th>\n",
       "      <td>1.210108</td>\n",
       "      <td>0.242917</td>\n",
       "      <td>0.786402</td>\n",
       "    </tr>\n",
       "    <tr>\n",
       "      <th>c</th>\n",
       "      <td>1.210108</td>\n",
       "      <td>0.242917</td>\n",
       "      <td>0.786402</td>\n",
       "    </tr>\n",
       "    <tr>\n",
       "      <th>d</th>\n",
       "      <td>-0.774799</td>\n",
       "      <td>-1.463119</td>\n",
       "      <td>-1.528251</td>\n",
       "    </tr>\n",
       "    <tr>\n",
       "      <th>e</th>\n",
       "      <td>-0.774799</td>\n",
       "      <td>-1.463119</td>\n",
       "      <td>-1.528251</td>\n",
       "    </tr>\n",
       "    <tr>\n",
       "      <th>f</th>\n",
       "      <td>1.062209</td>\n",
       "      <td>1.182602</td>\n",
       "      <td>-0.771568</td>\n",
       "    </tr>\n",
       "    <tr>\n",
       "      <th>g</th>\n",
       "      <td>1.526785</td>\n",
       "      <td>0.299881</td>\n",
       "      <td>1.525348</td>\n",
       "    </tr>\n",
       "    <tr>\n",
       "      <th>h</th>\n",
       "      <td>1.526785</td>\n",
       "      <td>0.299881</td>\n",
       "      <td>1.525348</td>\n",
       "    </tr>\n",
       "  </tbody>\n",
       "</table>\n",
       "</div>"
      ],
      "text/plain": [
       "        One       Two     Three\n",
       "a -0.159222 -1.411017  1.454112\n",
       "b  1.210108  0.242917  0.786402\n",
       "c  1.210108  0.242917  0.786402\n",
       "d -0.774799 -1.463119 -1.528251\n",
       "e -0.774799 -1.463119 -1.528251\n",
       "f  1.062209  1.182602 -0.771568\n",
       "g  1.526785  0.299881  1.525348\n",
       "h  1.526785  0.299881  1.525348"
      ]
     },
     "execution_count": 31,
     "metadata": {},
     "output_type": "execute_result"
    }
   ],
   "source": [
    "# replace all NA's the value that comes directly after it in the same column\n",
    "# then replace all the remaining NA's with 0\n",
    "df4 = df2.fillna(method = 'bfill',axis = 0).fillna(0)\n",
    "df4"
   ]
  },
  {
   "cell_type": "markdown",
   "metadata": {},
   "source": [
    "我们使用Pandas数据帧的后向填充方法来填充缺失值。同样，也可以使用ffil（方法进行前向填充。"
   ]
  },
  {
   "cell_type": "code",
   "execution_count": null,
   "metadata": {},
   "outputs": [],
   "source": []
  }
 ],
 "metadata": {
  "kernelspec": {
   "display_name": "Python 3",
   "language": "python",
   "name": "python3"
  },
  "language_info": {
   "codemirror_mode": {
    "name": "ipython",
    "version": 3
   },
   "file_extension": ".py",
   "mimetype": "text/x-python",
   "name": "python",
   "nbconvert_exporter": "python",
   "pygments_lexer": "ipython3",
   "version": "3.7.6"
  }
 },
 "nbformat": 4,
 "nbformat_minor": 4
}

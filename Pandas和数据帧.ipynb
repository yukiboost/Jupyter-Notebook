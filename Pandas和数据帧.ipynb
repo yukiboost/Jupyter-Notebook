{
 "cells": [
  {
   "cell_type": "markdown",
   "metadata": {},
   "source": [
    "# 第6章 Pandas和数据帧（DataFrame）\n"
   ]
  },
  {
   "cell_type": "code",
   "execution_count": 12,
   "metadata": {},
   "outputs": [],
   "source": [
    "# importing Pandas package using alias\n",
    "import pandas as pd\n",
    "import numpy as np"
   ]
  },
  {
   "cell_type": "code",
   "execution_count": 2,
   "metadata": {},
   "outputs": [],
   "source": [
    "# Pandas 主要有两种广泛应用于数据科学的数据结构。\n",
    "# 序列 （Series）\n",
    "# 数据帧 （DataFrame）\n"
   ]
  },
  {
   "cell_type": "markdown",
   "metadata": {},
   "source": [
    "Pandas中的序列是一维标记数组，能够保存任何数据类型。如整数，浮点数和字符串，与NumPy的一维数组类似。除由程序员指定的值之外，Pandas还为每个值分配一个标签。如果程序员没有提供标签，那么将由Pandas分配标签（第一个元素为0，第二个元素为1，以此类推）。把标签分配给数据值的好处是，随着整个数据集变得更像字典，当每一个值都与一个标签关联时，可以更加简便地操作数据集。"
   ]
  },
  {
   "cell_type": "code",
   "execution_count": 3,
   "metadata": {
    "scrolled": false
   },
   "outputs": [
    {
     "name": "stdout",
     "output_type": "stream",
     "text": [
      "empty series example: Series([], dtype: float64)\n"
     ]
    }
   ],
   "source": [
    "# Pandas序列可以通过pd.Series()构建\n",
    "# creating an empty Series\n",
    "x = pd.Series()\n",
    "print(\"empty series example:\",x)"
   ]
  },
  {
   "cell_type": "markdown",
   "metadata": {},
   "source": [
    "在输出单元格中，可以看到序列的默认数据类型为浮点型。接下来再使用数字列表创建另一个序列示例。"
   ]
  },
  {
   "cell_type": "code",
   "execution_count": 5,
   "metadata": {},
   "outputs": [
    {
     "name": "stdout",
     "output_type": "stream",
     "text": [
      "0    10\n",
      "1    20\n",
      "2    30\n",
      "3    50\n",
      "dtype: int64\n"
     ]
    }
   ],
   "source": [
    "# series example\n",
    "series1 = pd.Series([10,20,30,50])\n",
    "print(series1)"
   ]
  },
  {
   "cell_type": "markdown",
   "metadata": {},
   "source": [
    "可以看到输出形式是两列表格——第一列显示从零开始的索引，第二列显示对应的元素。该索引列是由序列自动生成的，如果想使用自定义索引名称重命名索引列，那么请使用索引参数。"
   ]
  },
  {
   "cell_type": "code",
   "execution_count": 7,
   "metadata": {},
   "outputs": [
    {
     "name": "stdout",
     "output_type": "stream",
     "text": [
      "a    10\n",
      "b    20\n",
      "c    30\n",
      "d    50\n",
      "dtype: int64\n"
     ]
    }
   ],
   "source": [
    "# re-indexing the default index column  自定义索引\n",
    "series2 = pd.Series([10,20,30,50], index = ['a','b','c','d'])\n",
    "print(series2)"
   ]
  },
  {
   "cell_type": "code",
   "execution_count": 8,
   "metadata": {},
   "outputs": [
    {
     "data": {
      "text/plain": [
       "20"
      ]
     },
     "execution_count": 8,
     "metadata": {},
     "output_type": "execute_result"
    }
   ],
   "source": [
    "# accessing a Series element\n",
    "series2['b']"
   ]
  },
  {
   "cell_type": "code",
   "execution_count": 13,
   "metadata": {},
   "outputs": [
    {
     "name": "stdout",
     "output_type": "stream",
     "text": [
      "adding 5 to Series:\n",
      " a    15\n",
      "b    25\n",
      "c    35\n",
      "d    55\n",
      "dtype: int64\n",
      "filtering series with greater than 30:\n",
      " d    50\n",
      "dtype: int64\n",
      "square root of Series elements:\n",
      " a    3.162278\n",
      "b    4.472136\n",
      "c    5.477226\n",
      "d    7.071068\n",
      "dtype: float64\n"
     ]
    }
   ],
   "source": [
    "# data manipulation with series\n",
    "print(\"adding 5 to Series:\\n\",series2 + 5)\n",
    "print(\"filtering series with greater than 30:\\n\",series2[series2>30])\n",
    "print(\"square root of Series elements:\\n\", np.sqrt(series2))"
   ]
  },
  {
   "cell_type": "code",
   "execution_count": 14,
   "metadata": {},
   "outputs": [
    {
     "data": {
      "text/plain": [
       "a    1\n",
       "b    2\n",
       "c    3\n",
       "dtype: int64"
      ]
     },
     "execution_count": 14,
     "metadata": {},
     "output_type": "execute_result"
    }
   ],
   "source": [
    "# 字典数据结构转换城序列式\n",
    "# a sample dictionary\n",
    "data = {'a': 1, 'b': 2, 'c': 3}\n",
    "# converting dictionary to series\n",
    "pd.Series(data)"
   ]
  },
  {
   "cell_type": "markdown",
   "metadata": {},
   "source": [
    "# DataFrame"
   ]
  },
  {
   "cell_type": "markdown",
   "metadata": {},
   "source": [
    "Pandas的数据帧是一个二维标记的数据结构，具有类型可能不同的两列数值，包含3个组件——索引、行和列。它也是一种表格型数据结构，其中数据以行和列的格式（类似于CSV和SQL文件）排列，但也可用于更高维度的数据集。数据帧对象可以包含同质和异质的值，可以把它看作是序列数据结构的逻辑扩展。与仅有一个索引的序列不同，数据帧对象同时有列索引和行索引，体现了其访问和处理数据的灵活性。"
   ]
  },
  {
   "cell_type": "code",
   "execution_count": 15,
   "metadata": {},
   "outputs": [
    {
     "name": "stdout",
     "output_type": "stream",
     "text": [
      "dataframe example:\n",
      " Empty DataFrame\n",
      "Columns: []\n",
      "Index: []\n"
     ]
    }
   ],
   "source": [
    "# creating an empty dataframe\n",
    "df = pd.DataFrame()\n",
    "print(\"dataframe example:\\n\",df)"
   ]
  },
  {
   "cell_type": "code",
   "execution_count": 24,
   "metadata": {},
   "outputs": [
    {
     "data": {
      "text/html": [
       "<div>\n",
       "<style scoped>\n",
       "    .dataframe tbody tr th:only-of-type {\n",
       "        vertical-align: middle;\n",
       "    }\n",
       "\n",
       "    .dataframe tbody tr th {\n",
       "        vertical-align: top;\n",
       "    }\n",
       "\n",
       "    .dataframe thead th {\n",
       "        text-align: right;\n",
       "    }\n",
       "</style>\n",
       "<table border=\"1\" class=\"dataframe\">\n",
       "  <thead>\n",
       "    <tr style=\"text-align: right;\">\n",
       "      <th></th>\n",
       "      <th>Name</th>\n",
       "      <th>Age</th>\n",
       "    </tr>\n",
       "  </thead>\n",
       "  <tbody>\n",
       "    <tr>\n",
       "      <th>0</th>\n",
       "      <td>Tom</td>\n",
       "      <td>10</td>\n",
       "    </tr>\n",
       "    <tr>\n",
       "      <th>1</th>\n",
       "      <td>Harry</td>\n",
       "      <td>12</td>\n",
       "    </tr>\n",
       "    <tr>\n",
       "      <th>2</th>\n",
       "      <td>Jim</td>\n",
       "      <td>13</td>\n",
       "    </tr>\n",
       "  </tbody>\n",
       "</table>\n",
       "</div>"
      ],
      "text/plain": [
       "    Name  Age\n",
       "0    Tom   10\n",
       "1  Harry   12\n",
       "2    Jim   13"
      ]
     },
     "execution_count": 24,
     "metadata": {},
     "output_type": "execute_result"
    }
   ],
   "source": [
    "# a sample list containing name and age\n",
    "data = [['Tom',10],['Harry',12],['Jim',13]]\n",
    "# creating a dataframe form givin list with column names\n",
    "df = pd.DataFrame(data, columns=['Name','Age'])\n",
    "df"
   ]
  },
  {
   "cell_type": "code",
   "execution_count": 25,
   "metadata": {},
   "outputs": [
    {
     "data": {
      "text/plain": [
       "0      Tom\n",
       "1    Harry\n",
       "2      Jim\n",
       "Name: Name, dtype: object"
      ]
     },
     "execution_count": 25,
     "metadata": {},
     "output_type": "execute_result"
    }
   ],
   "source": [
    "# accessing a dataframe column-first way\n",
    "df['Name']"
   ]
  },
  {
   "cell_type": "code",
   "execution_count": 26,
   "metadata": {},
   "outputs": [
    {
     "data": {
      "text/plain": [
       "0      Tom\n",
       "1    Harry\n",
       "2      Jim\n",
       "Name: Name, dtype: object"
      ]
     },
     "execution_count": 26,
     "metadata": {},
     "output_type": "execute_result"
    }
   ],
   "source": [
    "# accessing a dataframe column-second way\n",
    "df.Name"
   ]
  },
  {
   "cell_type": "code",
   "execution_count": 27,
   "metadata": {},
   "outputs": [
    {
     "data": {
      "text/html": [
       "<div>\n",
       "<style scoped>\n",
       "    .dataframe tbody tr th:only-of-type {\n",
       "        vertical-align: middle;\n",
       "    }\n",
       "\n",
       "    .dataframe tbody tr th {\n",
       "        vertical-align: top;\n",
       "    }\n",
       "\n",
       "    .dataframe thead th {\n",
       "        text-align: right;\n",
       "    }\n",
       "</style>\n",
       "<table border=\"1\" class=\"dataframe\">\n",
       "  <thead>\n",
       "    <tr style=\"text-align: right;\">\n",
       "      <th></th>\n",
       "      <th>Name</th>\n",
       "      <th>Age</th>\n",
       "      <th>Year</th>\n",
       "    </tr>\n",
       "  </thead>\n",
       "  <tbody>\n",
       "    <tr>\n",
       "      <th>0</th>\n",
       "      <td>Tom</td>\n",
       "      <td>10</td>\n",
       "      <td>2020</td>\n",
       "    </tr>\n",
       "    <tr>\n",
       "      <th>1</th>\n",
       "      <td>Harry</td>\n",
       "      <td>12</td>\n",
       "      <td>2020</td>\n",
       "    </tr>\n",
       "    <tr>\n",
       "      <th>2</th>\n",
       "      <td>Jim</td>\n",
       "      <td>13</td>\n",
       "      <td>2020</td>\n",
       "    </tr>\n",
       "  </tbody>\n",
       "</table>\n",
       "</div>"
      ],
      "text/plain": [
       "    Name  Age  Year\n",
       "0    Tom   10  2020\n",
       "1  Harry   12  2020\n",
       "2    Jim   13  2020"
      ]
     },
     "execution_count": 27,
     "metadata": {},
     "output_type": "execute_result"
    }
   ],
   "source": [
    "# adding a column in existing dataframe\n",
    "df['Year'] = 2020\n",
    "df"
   ]
  },
  {
   "cell_type": "code",
   "execution_count": 28,
   "metadata": {},
   "outputs": [
    {
     "name": "stdout",
     "output_type": "stream",
     "text": [
      "orignial dataframe:\n",
      "     Name  Age  Year\n",
      "0    Tom   10  2020\n",
      "1  Harry   12  2020\n",
      "2    Jim   13  2020\n",
      "dataframe after del:\n",
      "     Name  Age\n",
      "0    Tom   10\n",
      "1  Harry   12\n",
      "2    Jim   13\n",
      "dataframe after pop:\n",
      "     Name\n",
      "0    Tom\n",
      "1  Harry\n",
      "2    Jim\n"
     ]
    }
   ],
   "source": [
    "# 删除列也是一项比较简单的任务，可以使用del或.pop()完成\n",
    "print(\"orignial dataframe:\\n\", df)\n",
    "del df['Year']\n",
    "print(\"dataframe after del:\\n\",df)\n",
    "df.pop('Age')\n",
    "print(\"dataframe after pop:\\n\",df)"
   ]
  },
  {
   "cell_type": "markdown",
   "metadata": {},
   "source": [
    "# 6.3 .loc[] & .iloc[]"
   ]
  },
  {
   "cell_type": "code",
   "execution_count": null,
   "metadata": {},
   "outputs": [],
   "source": []
  }
 ],
 "metadata": {
  "kernelspec": {
   "display_name": "Python 3",
   "language": "python",
   "name": "python3"
  },
  "language_info": {
   "codemirror_mode": {
    "name": "ipython",
    "version": 3
   },
   "file_extension": ".py",
   "mimetype": "text/x-python",
   "name": "python",
   "nbconvert_exporter": "python",
   "pygments_lexer": "ipython3",
   "version": "3.7.6"
  }
 },
 "nbformat": 4,
 "nbformat_minor": 4
}

{
 "cells": [
  {
   "cell_type": "code",
   "execution_count": 1,
   "id": "weekly-surveillance",
   "metadata": {},
   "outputs": [
    {
     "name": "stdout",
     "output_type": "stream",
     "text": [
      "Hello World\n"
     ]
    }
   ],
   "source": [
    "print(\"Hello World\")"
   ]
  },
  {
   "cell_type": "code",
   "execution_count": 11,
   "id": "occupational-darwin",
   "metadata": {},
   "outputs": [
    {
     "name": "stdout",
     "output_type": "stream",
     "text": [
      "128\n"
     ]
    }
   ],
   "source": [
    "print(29+99)"
   ]
  },
  {
   "cell_type": "code",
   "execution_count": 5,
   "id": "swedish-conversion",
   "metadata": {},
   "outputs": [
    {
     "name": "stdout",
     "output_type": "stream",
     "text": [
      "9783424243\n",
      "23425234\n",
      "adding of two numbers:  9806849477\n",
      "difference in numbers:  9759999009\n",
      "multiplication of numbers:  229179002213547862\n"
     ]
    }
   ],
   "source": [
    "a = int(input())\n",
    "b = int(input())\n",
    "print(\"adding of two numbers: \", a+b)\n",
    "print(\"difference in numbers: \", a-b)\n",
    "print(\"multiplication of numbers: \", a*b)"
   ]
  },
  {
   "cell_type": "code",
   "execution_count": 6,
   "id": "steady-channels",
   "metadata": {},
   "outputs": [],
   "source": [
    "#float: 有理数，如，1.23/3.2\n",
    "#int: 整数值， 如：1、2、-3\n",
    "#str: 字符串或文本\n",
    "#Bool 表示是（True）或否（False）"
   ]
  },
  {
   "cell_type": "markdown",
   "id": "recorded-louis",
   "metadata": {},
   "source": [
    "#  列表与字典"
   ]
  },
  {
   "cell_type": "code",
   "execution_count": 13,
   "id": "finnish-twist",
   "metadata": {},
   "outputs": [
    {
     "name": "stdout",
     "output_type": "stream",
     "text": [
      "<class 'list'>\n"
     ]
    }
   ],
   "source": [
    "# Creating an empty list in python\n",
    "Height = []\n",
    "print(type(Height))"
   ]
  },
  {
   "cell_type": "code",
   "execution_count": 9,
   "id": "unauthorized-naples",
   "metadata": {},
   "outputs": [
    {
     "name": "stdout",
     "output_type": "stream",
     "text": [
      "[1.76, 1.8, 1.78, 1.65]\n"
     ]
    }
   ],
   "source": [
    "# A list containing heights\n",
    "height_list = [1.76,1.80,1.78,1.65]\n",
    "print(height_list)"
   ]
  },
  {
   "cell_type": "code",
   "execution_count": null,
   "id": "rational-corruption",
   "metadata": {},
   "outputs": [],
   "source": [
    "# A list containing str and float\n",
    "name_height_list = [\"Tom\",1.76,\"James\",1.80,\"Kat\",1.78,\"Dom\",1.65]\n",
    "print(name_height_list)"
   ]
  },
  {
   "cell_type": "code",
   "execution_count": 14,
   "id": "organized-ecology",
   "metadata": {},
   "outputs": [
    {
     "name": "stdout",
     "output_type": "stream",
     "text": [
      "NBA\n",
      "CBA\n"
     ]
    }
   ],
   "source": [
    "# 访问列表\n",
    "list = ['NBA','CBA','FBA']\n",
    "print(list[0])\n",
    "print(list[1])"
   ]
  },
  {
   "cell_type": "code",
   "execution_count": 15,
   "id": "black-airport",
   "metadata": {},
   "outputs": [
    {
     "name": "stdout",
     "output_type": "stream",
     "text": [
      "['panda', 'dog', 'jopyter']\n"
     ]
    }
   ],
   "source": [
    "# 更改元素\n",
    "list = ['panda','cat','jopyter']\n",
    "list[1] = 'dog'\n",
    "print(list)"
   ]
  },
  {
   "cell_type": "code",
   "execution_count": 16,
   "id": "explicit-impression",
   "metadata": {},
   "outputs": [
    {
     "name": "stdout",
     "output_type": "stream",
     "text": [
      "panda\n",
      "cat\n",
      "jopyter\n",
      "nba\n",
      "fba\n"
     ]
    }
   ],
   "source": [
    "# for循环go over list\n",
    "list = ['panda','cat','jopyter','nba','fba']\n",
    "for elem in list:\n",
    "    print(elem)"
   ]
  },
  {
   "cell_type": "code",
   "execution_count": 17,
   "id": "amateur-terry",
   "metadata": {},
   "outputs": [
    {
     "name": "stdout",
     "output_type": "stream",
     "text": [
      "5\n"
     ]
    }
   ],
   "source": [
    "# len() 检查列表中元素数量\n",
    "list = ['panda','cat','jopyter','nba','fba']\n",
    "print(len(list))"
   ]
  },
  {
   "cell_type": "code",
   "execution_count": 18,
   "id": "touched-panama",
   "metadata": {},
   "outputs": [
    {
     "name": "stdout",
     "output_type": "stream",
     "text": [
      "['panda', 'cat', 'jopyter', 'nba', 'fba', 'java']\n"
     ]
    }
   ],
   "source": [
    "# append() 添加到列表最后\n",
    "list = ['panda','cat','jopyter','nba','fba']\n",
    "list.append('java')\n",
    "print(list)"
   ]
  },
  {
   "cell_type": "code",
   "execution_count": 19,
   "id": "approved-ensemble",
   "metadata": {},
   "outputs": [
    {
     "name": "stdout",
     "output_type": "stream",
     "text": [
      "['panda', 'cat', 'vocano', 'jopyter', 'nba', 'fba']\n"
     ]
    }
   ],
   "source": [
    "# insert() 添加到列表中特定位置\n",
    "list = ['panda','cat','jopyter','nba','fba']\n",
    "list.insert(2,'vocano')\n",
    "print(list)"
   ]
  },
  {
   "cell_type": "code",
   "execution_count": 20,
   "id": "grateful-input",
   "metadata": {},
   "outputs": [
    {
     "name": "stdout",
     "output_type": "stream",
     "text": [
      "['panda', 'cat', 'jopyter', 'fba']\n",
      "['panda', 'cat', 'jopyter']\n"
     ]
    }
   ],
   "source": [
    "# remove() remove by name//  pop() remove by index\n",
    "list = ['panda','cat','jopyter','nba','fba']\n",
    "# remove element by name\n",
    "list.remove('nba')\n",
    "print(list)\n",
    "# remove element by index\n",
    "list.pop(3)\n",
    "print(list)"
   ]
  },
  {
   "cell_type": "code",
   "execution_count": null,
   "id": "green-booth",
   "metadata": {},
   "outputs": [],
   "source": []
  }
 ],
 "metadata": {
  "kernelspec": {
   "display_name": "Python 3",
   "language": "python",
   "name": "python3"
  },
  "language_info": {
   "codemirror_mode": {
    "name": "ipython",
    "version": 3
   },
   "file_extension": ".py",
   "mimetype": "text/x-python",
   "name": "python",
   "nbconvert_exporter": "python",
   "pygments_lexer": "ipython3",
   "version": "3.7.6"
  }
 },
 "nbformat": 4,
 "nbformat_minor": 5
}

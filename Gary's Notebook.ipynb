{
 "cells": [
  {
   "cell_type": "code",
   "execution_count": 1,
   "id": "greater-facial",
   "metadata": {},
   "outputs": [
    {
     "name": "stdout",
     "output_type": "stream",
     "text": [
      "Hello World\n"
     ]
    }
   ],
   "source": [
    "print(\"Hello World\")"
   ]
  },
  {
   "cell_type": "code",
   "execution_count": 11,
   "id": "documented-morning",
   "metadata": {},
   "outputs": [
    {
     "name": "stdout",
     "output_type": "stream",
     "text": [
      "128\n"
     ]
    }
   ],
   "source": [
    "print(29+99)"
   ]
  },
  {
   "cell_type": "code",
   "execution_count": 5,
   "id": "italian-consortium",
   "metadata": {},
   "outputs": [
    {
     "name": "stdout",
     "output_type": "stream",
     "text": [
      "9783424243\n",
      "23425234\n",
      "adding of two numbers:  9806849477\n",
      "difference in numbers:  9759999009\n",
      "multiplication of numbers:  229179002213547862\n"
     ]
    }
   ],
   "source": [
    "a = int(input())\n",
    "b = int(input())\n",
    "print(\"adding of two numbers: \", a+b)\n",
    "print(\"difference in numbers: \", a-b)\n",
    "print(\"multiplication of numbers: \", a*b)"
   ]
  },
  {
   "cell_type": "code",
   "execution_count": 6,
   "id": "lesbian-layout",
   "metadata": {},
   "outputs": [],
   "source": [
    "#float: 有理数，如，1.23/3.2\n",
    "#int: 整数值， 如：1、2、-3\n",
    "#str: 字符串或文本\n",
    "#Bool 表示是（True）或否（False）"
   ]
  },
  {
   "cell_type": "markdown",
   "id": "rolled-cyprus",
   "metadata": {},
   "source": [
    "#  列表与字典"
   ]
  },
  {
   "cell_type": "markdown",
   "id": "historic-consent",
   "metadata": {},
   "source": [
    "列表"
   ]
  },
  {
   "cell_type": "code",
   "execution_count": 13,
   "id": "reserved-effect",
   "metadata": {},
   "outputs": [
    {
     "name": "stdout",
     "output_type": "stream",
     "text": [
      "<class 'list'>\n"
     ]
    }
   ],
   "source": [
    "# Creating an empty list in python\n",
    "Height = []\n",
    "print(type(Height))"
   ]
  },
  {
   "cell_type": "code",
   "execution_count": 9,
   "id": "dominican-sugar",
   "metadata": {},
   "outputs": [
    {
     "name": "stdout",
     "output_type": "stream",
     "text": [
      "[1.76, 1.8, 1.78, 1.65]\n"
     ]
    }
   ],
   "source": [
    "# A list containing heights\n",
    "height_list = [1.76,1.80,1.78,1.65]\n",
    "print(height_list)"
   ]
  },
  {
   "cell_type": "code",
   "execution_count": null,
   "id": "assigned-marijuana",
   "metadata": {},
   "outputs": [],
   "source": [
    "# A list containing str and float\n",
    "name_height_list = [\"Tom\",1.76,\"James\",1.80,\"Kat\",1.78,\"Dom\",1.65]\n",
    "print(name_height_list)"
   ]
  },
  {
   "cell_type": "code",
   "execution_count": 14,
   "id": "upper-reputation",
   "metadata": {},
   "outputs": [
    {
     "name": "stdout",
     "output_type": "stream",
     "text": [
      "NBA\n",
      "CBA\n"
     ]
    }
   ],
   "source": [
    "# 访问列表\n",
    "list = ['NBA','CBA','FBA']\n",
    "print(list[0])\n",
    "print(list[1])"
   ]
  },
  {
   "cell_type": "code",
   "execution_count": 15,
   "id": "extended-revelation",
   "metadata": {},
   "outputs": [
    {
     "name": "stdout",
     "output_type": "stream",
     "text": [
      "['panda', 'dog', 'jopyter']\n"
     ]
    }
   ],
   "source": [
    "# 更改元素\n",
    "list = ['panda','cat','jopyter']\n",
    "list[1] = 'dog'\n",
    "print(list)"
   ]
  },
  {
   "cell_type": "code",
   "execution_count": 16,
   "id": "after-syndication",
   "metadata": {},
   "outputs": [
    {
     "name": "stdout",
     "output_type": "stream",
     "text": [
      "panda\n",
      "cat\n",
      "jopyter\n",
      "nba\n",
      "fba\n"
     ]
    }
   ],
   "source": [
    "# for循环go over list\n",
    "list = ['panda','cat','jopyter','nba','fba']\n",
    "for elem in list:\n",
    "    print(elem)"
   ]
  },
  {
   "cell_type": "code",
   "execution_count": 17,
   "id": "unlike-permission",
   "metadata": {},
   "outputs": [
    {
     "name": "stdout",
     "output_type": "stream",
     "text": [
      "5\n"
     ]
    }
   ],
   "source": [
    "# len() 检查列表中元素数量\n",
    "list = ['panda','cat','jopyter','nba','fba']\n",
    "print(len(list))"
   ]
  },
  {
   "cell_type": "code",
   "execution_count": 18,
   "id": "referenced-consumption",
   "metadata": {},
   "outputs": [
    {
     "name": "stdout",
     "output_type": "stream",
     "text": [
      "['panda', 'cat', 'jopyter', 'nba', 'fba', 'java']\n"
     ]
    }
   ],
   "source": [
    "# append() 添加到列表最后\n",
    "list = ['panda','cat','jopyter','nba','fba']\n",
    "list.append('java')\n",
    "print(list)"
   ]
  },
  {
   "cell_type": "code",
   "execution_count": 19,
   "id": "embedded-andrew",
   "metadata": {},
   "outputs": [
    {
     "name": "stdout",
     "output_type": "stream",
     "text": [
      "['panda', 'cat', 'vocano', 'jopyter', 'nba', 'fba']\n"
     ]
    }
   ],
   "source": [
    "# insert() 添加到列表中特定位置\n",
    "list = ['panda','cat','jopyter','nba','fba']\n",
    "list.insert(2,'vocano')\n",
    "print(list)"
   ]
  },
  {
   "cell_type": "code",
   "execution_count": 24,
   "id": "organizational-nashville",
   "metadata": {},
   "outputs": [
    {
     "name": "stdout",
     "output_type": "stream",
     "text": [
      "['panda', 'cat', 'jopyter', 'fba']\n",
      "['panda', 'cat', 'jopyter']\n",
      "['panda', 'cat']\n"
     ]
    }
   ],
   "source": [
    "# remove() remove by name//  pop() remove by index\n",
    "list = ['panda','cat','jopyter','nba','fba']\n",
    "# remove element by name\n",
    "list.remove('nba')\n",
    "print(list)\n",
    "# remove element by index\n",
    "list.pop(3)\n",
    "print(list)\n",
    "# del() 语法结构略有不同\n",
    "del(list[2])\n",
    "print(list)"
   ]
  },
  {
   "cell_type": "code",
   "execution_count": 21,
   "id": "continent-discrimination",
   "metadata": {},
   "outputs": [
    {
     "name": "stdout",
     "output_type": "stream",
     "text": [
      "['cat', 'fba', 'jopyter', 'nba', 'panda']\n",
      "['panda', 'nba', 'jopyter', 'fba', 'cat']\n"
     ]
    }
   ],
   "source": [
    "# sort() 升序/降序\n",
    "list = ['panda','cat','jopyter','nba','fba']\n",
    "list.sort()\n",
    "print(list)\n",
    "list.sort(reverse=True)\n",
    "print(list)"
   ]
  },
  {
   "cell_type": "markdown",
   "id": "awful-research",
   "metadata": {},
   "source": [
    "$$ 列表与数组"
   ]
  },
  {
   "cell_type": "markdown",
   "id": "forced-angle",
   "metadata": {},
   "source": [
    "# 列表与数组"
   ]
  },
  {
   "cell_type": "markdown",
   "id": "nonprofit-virtue",
   "metadata": {},
   "source": [
    "数组（Tuple），数组使用()，列表使用[]。\n",
    "数组是不可变，在声明数组后既不能对其进行修改和删除，也不嫩在其中添加任何新的数据项。数组不存在 append()、remove()、pop()方法。"
   ]
  },
  {
   "cell_type": "code",
   "execution_count": 25,
   "id": "ruled-conflict",
   "metadata": {},
   "outputs": [
    {
     "name": "stdout",
     "output_type": "stream",
     "text": [
      "('cs', 'ee', 'mga', 'bv')\n",
      "<class 'tuple'>\n"
     ]
    }
   ],
   "source": [
    "# tuple example\n",
    "tuple = ('cs','ee','mga','bv')\n",
    "print(tuple)\n",
    "print(type(tuple))"
   ]
  },
  {
   "cell_type": "markdown",
   "id": "above-estonia",
   "metadata": {},
   "source": [
    "字典--（Key-Value) "
   ]
  },
  {
   "cell_type": "code",
   "execution_count": 27,
   "id": "interracial-berkeley",
   "metadata": {},
   "outputs": [
    {
     "name": "stdout",
     "output_type": "stream",
     "text": [
      "{'brand': 'kia', 'model': 'tesla', 'type': 'suv', 'year': '2020'}\n"
     ]
    }
   ],
   "source": [
    "# Dictionary example\n",
    "dict = {\n",
    "    'brand':'kia',\n",
    "    'model':'tesla',\n",
    "    'type':'suv',\n",
    "    'year':'2020'\n",
    "}\n",
    "print(dict)"
   ]
  },
  {
   "cell_type": "code",
   "execution_count": 28,
   "id": "relevant-arlington",
   "metadata": {},
   "outputs": [
    {
     "name": "stdout",
     "output_type": "stream",
     "text": [
      "kia\n",
      "kia\n"
     ]
    }
   ],
   "source": [
    "# access the brand value by key\n",
    "car_brand = dict['brand']\n",
    "print(car_brand)\n",
    "# access the brand value by get()\n",
    "carbrand = dict.get('brand')\n",
    "print(carbrand)"
   ]
  },
  {
   "cell_type": "code",
   "execution_count": 32,
   "id": "meaningful-hartford",
   "metadata": {},
   "outputs": [
    {
     "name": "stdout",
     "output_type": "stream",
     "text": [
      "{'brand': 'nissan', 'model': 'tesla', 'type': 'suv', 'year': '2020', 'bradn': 'nissan'}\n"
     ]
    }
   ],
   "source": [
    "# update value\n",
    "\n",
    "dict['brand'] = 'nissan'\n",
    "print(dict)"
   ]
  },
  {
   "cell_type": "code",
   "execution_count": 37,
   "id": "verbal-asset",
   "metadata": {},
   "outputs": [
    {
     "name": "stdout",
     "output_type": "stream",
     "text": [
      "key: brand\n",
      "key: model\n",
      "key: type\n",
      "key: year\n",
      "key: bradn\n",
      "value: nissan\n",
      "value: tesla\n",
      "value: suv\n",
      "value: 2020\n",
      "value: nissan\n"
     ]
    }
   ],
   "source": [
    "# for loop go over dict\n",
    "# print all keys\n",
    "for key in dict.keys():\n",
    "    print('key: '+key)\n",
    "# print all values:\n",
    "for value in dict.values():\n",
    "    print('value: '+value)"
   ]
  },
  {
   "cell_type": "code",
   "execution_count": 38,
   "id": "optical-negotiation",
   "metadata": {},
   "outputs": [
    {
     "name": "stdout",
     "output_type": "stream",
     "text": [
      "brand nissan\n",
      "model tesla\n",
      "type suv\n",
      "year 2020\n",
      "bradn nissan\n"
     ]
    }
   ],
   "source": [
    "# print key-value pairs\n",
    "for key, value in dict.items():\n",
    "    print(key,value)"
   ]
  },
  {
   "cell_type": "code",
   "execution_count": null,
   "id": "yellow-turner",
   "metadata": {},
   "outputs": [],
   "source": []
  }
 ],
 "metadata": {
  "kernelspec": {
   "display_name": "Python 3",
   "language": "python",
   "name": "python3"
  },
  "language_info": {
   "codemirror_mode": {
    "name": "ipython",
    "version": 3
   },
   "file_extension": ".py",
   "mimetype": "text/x-python",
   "name": "python",
   "nbconvert_exporter": "python",
   "pygments_lexer": "ipython3",
   "version": "3.7.6"
  }
 },
 "nbformat": 4,
 "nbformat_minor": 5
}

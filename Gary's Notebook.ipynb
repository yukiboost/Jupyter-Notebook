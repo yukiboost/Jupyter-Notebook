{
 "cells": [
  {
   "cell_type": "code",
   "execution_count": 1,
   "id": "completed-specialist",
   "metadata": {},
   "outputs": [
    {
     "name": "stdout",
     "output_type": "stream",
     "text": [
      "Hello World\n"
     ]
    }
   ],
   "source": [
    "print(\"Hello World\")"
   ]
  },
  {
   "cell_type": "code",
   "execution_count": 2,
   "id": "intellectual-acquisition",
   "metadata": {},
   "outputs": [
    {
     "data": {
      "text/plain": [
       "128"
      ]
     },
     "execution_count": 2,
     "metadata": {},
     "output_type": "execute_result"
    }
   ],
   "source": [
    "29+99"
   ]
  },
  {
   "cell_type": "code",
   "execution_count": 5,
   "id": "hundred-mumbai",
   "metadata": {},
   "outputs": [
    {
     "name": "stdout",
     "output_type": "stream",
     "text": [
      "9783424243\n",
      "23425234\n",
      "adding of two numbers:  9806849477\n",
      "difference in numbers:  9759999009\n",
      "multiplication of numbers:  229179002213547862\n"
     ]
    }
   ],
   "source": [
    "a = int(input())\n",
    "b = int(input())\n",
    "print(\"adding of two numbers: \", a+b)\n",
    "print(\"difference in numbers: \", a-b)\n",
    "print(\"multiplication of numbers: \", a*b)"
   ]
  },
  {
   "cell_type": "code",
   "execution_count": null,
   "id": "manufactured-corrections",
   "metadata": {},
   "outputs": [],
   "source": [
    "#float: 有理数，如，1.23/3.2\n",
    "#int: 整数值， 如：1、2、-3\n",
    "#str: 字符串或文本"
   ]
  }
 ],
 "metadata": {
  "kernelspec": {
   "display_name": "Python 3",
   "language": "python",
   "name": "python3"
  },
  "language_info": {
   "codemirror_mode": {
    "name": "ipython",
    "version": 3
   },
   "file_extension": ".py",
   "mimetype": "text/x-python",
   "name": "python",
   "nbconvert_exporter": "python",
   "pygments_lexer": "ipython3",
   "version": "3.7.6"
  }
 },
 "nbformat": 4,
 "nbformat_minor": 5
}
